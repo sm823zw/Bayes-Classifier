{
 "cells": [
  {
   "cell_type": "code",
   "execution_count": 1,
   "source": [
    "import numpy as np\r\n",
    "import pandas as pd\r\n",
    "import os\r\n",
    "import math\r\n",
    "import matplotlib.pyplot as plt\r\n",
    "from scipy.stats import multivariate_normal as mnorm"
   ],
   "outputs": [],
   "metadata": {}
  },
  {
   "cell_type": "code",
   "execution_count": 2,
   "source": [
    "train = pd.read_csv('R:/IISc/Sem 2/PRNN/Assignments/assignment-1-data-sets/P1a_train_data_2D.txt', header=None)"
   ],
   "outputs": [],
   "metadata": {}
  },
  {
   "cell_type": "code",
   "execution_count": 3,
   "source": [
    "D = 2"
   ],
   "outputs": [],
   "metadata": {}
  },
  {
   "cell_type": "code",
   "execution_count": 4,
   "source": [
    "train = train.rename(columns={D: \"y\"})\r\n",
    "train.head()"
   ],
   "outputs": [
    {
     "output_type": "execute_result",
     "data": {
      "text/plain": [
       "        0       1  y\n",
       "0  0.7177 -2.1138  1\n",
       "1  0.6259  1.6304  1\n",
       "2  1.7229  1.6341  1\n",
       "3  0.9462  0.8236  1\n",
       "4 -0.4696 -0.3449  1"
      ],
      "text/html": [
       "<div>\n",
       "<style scoped>\n",
       "    .dataframe tbody tr th:only-of-type {\n",
       "        vertical-align: middle;\n",
       "    }\n",
       "\n",
       "    .dataframe tbody tr th {\n",
       "        vertical-align: top;\n",
       "    }\n",
       "\n",
       "    .dataframe thead th {\n",
       "        text-align: right;\n",
       "    }\n",
       "</style>\n",
       "<table border=\"1\" class=\"dataframe\">\n",
       "  <thead>\n",
       "    <tr style=\"text-align: right;\">\n",
       "      <th></th>\n",
       "      <th>0</th>\n",
       "      <th>1</th>\n",
       "      <th>y</th>\n",
       "    </tr>\n",
       "  </thead>\n",
       "  <tbody>\n",
       "    <tr>\n",
       "      <th>0</th>\n",
       "      <td>0.7177</td>\n",
       "      <td>-2.1138</td>\n",
       "      <td>1</td>\n",
       "    </tr>\n",
       "    <tr>\n",
       "      <th>1</th>\n",
       "      <td>0.6259</td>\n",
       "      <td>1.6304</td>\n",
       "      <td>1</td>\n",
       "    </tr>\n",
       "    <tr>\n",
       "      <th>2</th>\n",
       "      <td>1.7229</td>\n",
       "      <td>1.6341</td>\n",
       "      <td>1</td>\n",
       "    </tr>\n",
       "    <tr>\n",
       "      <th>3</th>\n",
       "      <td>0.9462</td>\n",
       "      <td>0.8236</td>\n",
       "      <td>1</td>\n",
       "    </tr>\n",
       "    <tr>\n",
       "      <th>4</th>\n",
       "      <td>-0.4696</td>\n",
       "      <td>-0.3449</td>\n",
       "      <td>1</td>\n",
       "    </tr>\n",
       "  </tbody>\n",
       "</table>\n",
       "</div>"
      ]
     },
     "metadata": {},
     "execution_count": 4
    }
   ],
   "metadata": {}
  },
  {
   "cell_type": "code",
   "execution_count": 5,
   "source": [
    "# train = train.sample(5)"
   ],
   "outputs": [],
   "metadata": {}
  },
  {
   "cell_type": "code",
   "execution_count": 6,
   "source": [
    "total = len(train.index)\r\n",
    "p0 = train[train.y == -1].shape[0]/total\r\n",
    "p1 = train[train.y == 1].shape[0]/total\r\n",
    "print(total, p0, p1)"
   ],
   "outputs": [
    {
     "output_type": "stream",
     "name": "stdout",
     "text": [
      "200 0.5 0.5\n"
     ]
    }
   ],
   "metadata": {}
  },
  {
   "cell_type": "code",
   "execution_count": 7,
   "source": [
    "mu0 = np.array(train.groupby('y').mean().loc[-1])\r\n",
    "mu1 = np.array(train.groupby('y').mean().loc[1])\r\n",
    "sigma0 = np.array(train.groupby('y').cov().loc[-1])\r\n",
    "sigma1 = np.array(train.groupby('y').cov().loc[1])\r\n",
    "mu0 = mu0.reshape((D, 1))\r\n",
    "mu1 = mu1.reshape((D, 1))\r\n",
    "sigma0 = sigma0.reshape((D, D))\r\n",
    "sigma1 = sigma1.reshape((D, D))"
   ],
   "outputs": [],
   "metadata": {}
  },
  {
   "cell_type": "code",
   "execution_count": 8,
   "source": [
    "print(mu0)\r\n",
    "print(mu1)\r\n",
    "print(sigma0)\r\n",
    "print(sigma1)"
   ],
   "outputs": [
    {
     "output_type": "stream",
     "name": "stdout",
     "text": [
      "[[1.266357]\n",
      " [1.044601]]\n",
      "[[0.158858]\n",
      " [0.245269]]\n",
      "[[0.9100869  0.04004571]\n",
      " [0.04004571 1.51371113]]\n",
      "[[1.01620853 0.45351858]\n",
      " [0.45351858 1.014597  ]]\n"
     ]
    }
   ],
   "metadata": {}
  },
  {
   "cell_type": "code",
   "execution_count": 9,
   "source": [
    "def exponential_prob(x, mu, d):\r\n",
    "    value = (1/mu[0][0])*(1/mu[1][0])*math.exp(np.dot(x, 1/mu))\r\n",
    "    return value\r\n",
    "\r\n",
    "def gaussian_prob(x, mu, sigma, d):\r\n",
    "    xx = np.matmul(x-mu, np.linalg.inv(sigma))\r\n",
    "    power = (-1/2)* np.matmul(np.matmul(x-mu, np.linalg.inv(sigma)), (x-mu).T)\r\n",
    "    det = abs(np.linalg.det(sigma))\r\n",
    "    value = (1/math.sqrt((2*math.pi)**d * det))* np.exp(power)\r\n",
    "    return value[0][0]\r\n",
    "\r\n",
    "def prediction(posterior_0, posterior_1):\r\n",
    "    if posterior_0 > posterior_1:\r\n",
    "        return -1\r\n",
    "    else:\r\n",
    "        return 1"
   ],
   "outputs": [],
   "metadata": {}
  },
  {
   "cell_type": "code",
   "execution_count": 10,
   "source": [
    "train['posterior_0'] = train.apply(lambda row: p0 * gaussian_prob(np.array(row[0:D]), mu0, sigma0, D), axis=1)\r\n",
    "# train['posterior_0'] = train.apply(lambda row: p0 * exponential_prob(np.array(row[0:D]), mu0, D), axis=1)\r\n",
    "train['posterior_1'] = train.apply(lambda row: p1 * gaussian_prob(np.array(row[0:D]), mu1, sigma1, D), axis=1)\r\n",
    "train['predicted'] = train.apply(lambda row: prediction(row.posterior_0, row.posterior_1), axis=1)"
   ],
   "outputs": [],
   "metadata": {}
  },
  {
   "cell_type": "code",
   "execution_count": 11,
   "source": [
    "train.head()"
   ],
   "outputs": [
    {
     "output_type": "execute_result",
     "data": {
      "text/plain": [
       "        0       1  y  posterior_0  posterior_1  predicted\n",
       "0  0.7177 -2.1138  1     0.001387     0.001497          1\n",
       "1  0.6259  1.6304  1     0.051465     0.029465         -1\n",
       "2  1.7229  1.6341  1     0.058129     0.018123         -1\n",
       "3  0.9462  0.8236  1     0.060344     0.060778          1\n",
       "4 -0.4696 -0.3449  1     0.005944     0.069943          1"
      ],
      "text/html": [
       "<div>\n",
       "<style scoped>\n",
       "    .dataframe tbody tr th:only-of-type {\n",
       "        vertical-align: middle;\n",
       "    }\n",
       "\n",
       "    .dataframe tbody tr th {\n",
       "        vertical-align: top;\n",
       "    }\n",
       "\n",
       "    .dataframe thead th {\n",
       "        text-align: right;\n",
       "    }\n",
       "</style>\n",
       "<table border=\"1\" class=\"dataframe\">\n",
       "  <thead>\n",
       "    <tr style=\"text-align: right;\">\n",
       "      <th></th>\n",
       "      <th>0</th>\n",
       "      <th>1</th>\n",
       "      <th>y</th>\n",
       "      <th>posterior_0</th>\n",
       "      <th>posterior_1</th>\n",
       "      <th>predicted</th>\n",
       "    </tr>\n",
       "  </thead>\n",
       "  <tbody>\n",
       "    <tr>\n",
       "      <th>0</th>\n",
       "      <td>0.7177</td>\n",
       "      <td>-2.1138</td>\n",
       "      <td>1</td>\n",
       "      <td>0.001387</td>\n",
       "      <td>0.001497</td>\n",
       "      <td>1</td>\n",
       "    </tr>\n",
       "    <tr>\n",
       "      <th>1</th>\n",
       "      <td>0.6259</td>\n",
       "      <td>1.6304</td>\n",
       "      <td>1</td>\n",
       "      <td>0.051465</td>\n",
       "      <td>0.029465</td>\n",
       "      <td>-1</td>\n",
       "    </tr>\n",
       "    <tr>\n",
       "      <th>2</th>\n",
       "      <td>1.7229</td>\n",
       "      <td>1.6341</td>\n",
       "      <td>1</td>\n",
       "      <td>0.058129</td>\n",
       "      <td>0.018123</td>\n",
       "      <td>-1</td>\n",
       "    </tr>\n",
       "    <tr>\n",
       "      <th>3</th>\n",
       "      <td>0.9462</td>\n",
       "      <td>0.8236</td>\n",
       "      <td>1</td>\n",
       "      <td>0.060344</td>\n",
       "      <td>0.060778</td>\n",
       "      <td>1</td>\n",
       "    </tr>\n",
       "    <tr>\n",
       "      <th>4</th>\n",
       "      <td>-0.4696</td>\n",
       "      <td>-0.3449</td>\n",
       "      <td>1</td>\n",
       "      <td>0.005944</td>\n",
       "      <td>0.069943</td>\n",
       "      <td>1</td>\n",
       "    </tr>\n",
       "  </tbody>\n",
       "</table>\n",
       "</div>"
      ]
     },
     "metadata": {},
     "execution_count": 11
    }
   ],
   "metadata": {}
  },
  {
   "cell_type": "code",
   "execution_count": 12,
   "source": [
    "y = train.iloc[:, [D]]\r\n",
    "y_pred = train.iloc[:, [-1]]"
   ],
   "outputs": [],
   "metadata": {}
  },
  {
   "cell_type": "code",
   "execution_count": 13,
   "source": [
    "predictions_train = np.array(y_pred) == np.array(y)"
   ],
   "outputs": [],
   "metadata": {}
  },
  {
   "cell_type": "code",
   "execution_count": 14,
   "source": [
    "true_count = (predictions_train[:, 0] == True).sum()\r\n",
    "false_count = (predictions_train[:, 0] == False).sum()\r\n",
    "accuracy = true_count/(total) * 100\r\n",
    "print(true_count, false_count)\r\n",
    "print('Accuracy = ' + str(accuracy) + '%')"
   ],
   "outputs": [
    {
     "output_type": "stream",
     "name": "stdout",
     "text": [
      "152 48\n",
      "Accuracy = 76.0%\n"
     ]
    }
   ],
   "metadata": {}
  },
  {
   "cell_type": "code",
   "execution_count": null,
   "source": [],
   "outputs": [],
   "metadata": {}
  },
  {
   "cell_type": "code",
   "execution_count": 15,
   "source": [
    "x0 = train[train['y'] == -1][0]\r\n",
    "y0 = train[train['y'] == -1][1]\r\n",
    "plt.scatter(x0, y0)\r\n",
    "x1 = train[train['y'] == 1][0]\r\n",
    "y1 = train[train['y'] == 1][1]\r\n",
    "plt.scatter(x1, y1)\r\n",
    "\r\n",
    "X, Y = np.mgrid[-4:4:100j, -4:4:100j]\r\n",
    "x = X.ravel()\r\n",
    "y = Y.ravel()\r\n",
    "p = (mnorm(mu1.T[0], sigma1).pdf(np.column_stack((x, y))) - mnorm(mu0.T[0], sigma0).pdf(np.column_stack((x, y)))).reshape(X.shape)\r\n",
    "plt.contour(X, Y, p, levels = [0])"
   ],
   "outputs": [
    {
     "output_type": "execute_result",
     "data": {
      "text/plain": [
       "<matplotlib.contour.QuadContourSet at 0x197c1504580>"
      ]
     },
     "metadata": {},
     "execution_count": 15
    },
    {
     "output_type": "display_data",
     "data": {
      "text/plain": [
       "<Figure size 432x288 with 1 Axes>"
      ],
      "image/svg+xml": "<?xml version=\"1.0\" encoding=\"utf-8\" standalone=\"no\"?>\r\n<!DOCTYPE svg PUBLIC \"-//W3C//DTD SVG 1.1//EN\"\r\n  \"http://www.w3.org/Graphics/SVG/1.1/DTD/svg11.dtd\">\r\n<!-- Created with matplotlib (https://matplotlib.org/) -->\r\n<svg height=\"252.317344pt\" version=\"1.1\" viewBox=\"0 0 374.123437 252.317344\" width=\"374.123437pt\" xmlns=\"http://www.w3.org/2000/svg\" xmlns:xlink=\"http://www.w3.org/1999/xlink\">\r\n <metadata>\r\n  <rdf:RDF xmlns:cc=\"http://creativecommons.org/ns#\" xmlns:dc=\"http://purl.org/dc/elements/1.1/\" xmlns:rdf=\"http://www.w3.org/1999/02/22-rdf-syntax-ns#\">\r\n   <cc:Work>\r\n    <dc:type rdf:resource=\"http://purl.org/dc/dcmitype/StillImage\"/>\r\n    <dc:date>2021-08-13T00:42:54.910577</dc:date>\r\n    <dc:format>image/svg+xml</dc:format>\r\n    <dc:creator>\r\n     <cc:Agent>\r\n      <dc:title>Matplotlib v3.3.2, https://matplotlib.org/</dc:title>\r\n     </cc:Agent>\r\n    </dc:creator>\r\n   </cc:Work>\r\n  </rdf:RDF>\r\n </metadata>\r\n <defs>\r\n  <style type=\"text/css\">*{stroke-linecap:butt;stroke-linejoin:round;}</style>\r\n </defs>\r\n <g id=\"figure_1\">\r\n  <g id=\"patch_1\">\r\n   <path d=\"M 0 252.317344 \r\nL 374.123437 252.317344 \r\nL 374.123437 0 \r\nL 0 0 \r\nz\r\n\" style=\"fill:none;\"/>\r\n  </g>\r\n  <g id=\"axes_1\">\r\n   <g id=\"patch_2\">\r\n    <path d=\"M 28.942188 228.439219 \r\nL 363.742188 228.439219 \r\nL 363.742188 10.999219 \r\nL 28.942188 10.999219 \r\nz\r\n\" style=\"fill:#ffffff;\"/>\r\n   </g>\r\n   <g id=\"PathCollection_1\">\r\n    <defs>\r\n     <path d=\"M 0 3 \r\nC 0.795609 3 1.55874 2.683901 2.12132 2.12132 \r\nC 2.683901 1.55874 3 0.795609 3 0 \r\nC 3 -0.795609 2.683901 -1.55874 2.12132 -2.12132 \r\nC 1.55874 -2.683901 0.795609 -3 0 -3 \r\nC -0.795609 -3 -1.55874 -2.683901 -2.12132 -2.12132 \r\nC -2.683901 -1.55874 -3 -0.795609 -3 0 \r\nC -3 0.795609 -2.683901 1.55874 -2.12132 2.12132 \r\nC -1.55874 2.683901 -0.795609 3 0 3 \r\nz\r\n\" id=\"m5fb90ef288\" style=\"stroke:#1f77b4;\"/>\r\n    </defs>\r\n    <g clip-path=\"url(#p04a2066136)\">\r\n     <use style=\"fill:#1f77b4;stroke:#1f77b4;\" x=\"241.234683\" xlink:href=\"#m5fb90ef288\" y=\"43.503781\"/>\r\n     <use style=\"fill:#1f77b4;stroke:#1f77b4;\" x=\"236.982723\" xlink:href=\"#m5fb90ef288\" y=\"90.802417\"/>\r\n     <use style=\"fill:#1f77b4;stroke:#1f77b4;\" x=\"232.621953\" xlink:href=\"#m5fb90ef288\" y=\"90.628465\"/>\r\n     <use style=\"fill:#1f77b4;stroke:#1f77b4;\" x=\"243.996783\" xlink:href=\"#m5fb90ef288\" y=\"59.504647\"/>\r\n     <use style=\"fill:#1f77b4;stroke:#1f77b4;\" x=\"222.054828\" xlink:href=\"#m5fb90ef288\" y=\"127.875937\"/>\r\n     <use style=\"fill:#1f77b4;stroke:#1f77b4;\" x=\"266.775738\" xlink:href=\"#m5fb90ef288\" y=\"57.216091\"/>\r\n     <use style=\"fill:#1f77b4;stroke:#1f77b4;\" x=\"249.257328\" xlink:href=\"#m5fb90ef288\" y=\"152.653225\"/>\r\n     <use style=\"fill:#1f77b4;stroke:#1f77b4;\" x=\"181.615173\" xlink:href=\"#m5fb90ef288\" y=\"119.012539\"/>\r\n     <use style=\"fill:#1f77b4;stroke:#1f77b4;\" x=\"235.024143\" xlink:href=\"#m5fb90ef288\" y=\"72.556483\"/>\r\n     <use style=\"fill:#1f77b4;stroke:#1f77b4;\" x=\"203.992368\" xlink:href=\"#m5fb90ef288\" y=\"49.214299\"/>\r\n     <use style=\"fill:#1f77b4;stroke:#1f77b4;\" x=\"162.991923\" xlink:href=\"#m5fb90ef288\" y=\"74.600419\"/>\r\n     <use style=\"fill:#1f77b4;stroke:#1f77b4;\" x=\"196.593288\" xlink:href=\"#m5fb90ef288\" y=\"94.197199\"/>\r\n     <use style=\"fill:#1f77b4;stroke:#1f77b4;\" x=\"199.811553\" xlink:href=\"#m5fb90ef288\" y=\"118.414579\"/>\r\n     <use style=\"fill:#1f77b4;stroke:#1f77b4;\" x=\"235.132953\" xlink:href=\"#m5fb90ef288\" y=\"39.989407\"/>\r\n     <use style=\"fill:#1f77b4;stroke:#1f77b4;\" x=\"302.657928\" xlink:href=\"#m5fb90ef288\" y=\"25.882987\"/>\r\n     <use style=\"fill:#1f77b4;stroke:#1f77b4;\" x=\"287.047878\" xlink:href=\"#m5fb90ef288\" y=\"93.490519\"/>\r\n     <use style=\"fill:#1f77b4;stroke:#1f77b4;\" x=\"283.695693\" xlink:href=\"#m5fb90ef288\" y=\"116.324437\"/>\r\n     <use style=\"fill:#1f77b4;stroke:#1f77b4;\" x=\"228.524838\" xlink:href=\"#m5fb90ef288\" y=\"79.778209\"/>\r\n     <use style=\"fill:#1f77b4;stroke:#1f77b4;\" x=\"255.275358\" xlink:href=\"#m5fb90ef288\" y=\"128.976727\"/>\r\n     <use style=\"fill:#1f77b4;stroke:#1f77b4;\" x=\"249.981333\" xlink:href=\"#m5fb90ef288\" y=\"184.964809\"/>\r\n     <use style=\"fill:#1f77b4;stroke:#1f77b4;\" x=\"322.310688\" xlink:href=\"#m5fb90ef288\" y=\"154.308487\"/>\r\n     <use style=\"fill:#1f77b4;stroke:#1f77b4;\" x=\"194.274798\" xlink:href=\"#m5fb90ef288\" y=\"52.114405\"/>\r\n     <use style=\"fill:#1f77b4;stroke:#1f77b4;\" x=\"286.328057\" xlink:href=\"#m5fb90ef288\" y=\"104.280979\"/>\r\n     <use style=\"fill:#1f77b4;stroke:#1f77b4;\" x=\"248.169228\" xlink:href=\"#m5fb90ef288\" y=\"97.681675\"/>\r\n     <use style=\"fill:#1f77b4;stroke:#1f77b4;\" x=\"327.462423\" xlink:href=\"#m5fb90ef288\" y=\"140.794591\"/>\r\n     <use style=\"fill:#1f77b4;stroke:#1f77b4;\" x=\"225.448863\" xlink:href=\"#m5fb90ef288\" y=\"112.443133\"/>\r\n     <use style=\"fill:#1f77b4;stroke:#1f77b4;\" x=\"246.290163\" xlink:href=\"#m5fb90ef288\" y=\"75.543565\"/>\r\n     <use style=\"fill:#1f77b4;stroke:#1f77b4;\" x=\"209.487273\" xlink:href=\"#m5fb90ef288\" y=\"17.073949\"/>\r\n     <use style=\"fill:#1f77b4;stroke:#1f77b4;\" x=\"285.461763\" xlink:href=\"#m5fb90ef288\" y=\"143.273407\"/>\r\n     <use style=\"fill:#1f77b4;stroke:#1f77b4;\" x=\"265.750413\" xlink:href=\"#m5fb90ef288\" y=\"35.545477\"/>\r\n     <use style=\"fill:#1f77b4;stroke:#1f77b4;\" x=\"167.051373\" xlink:href=\"#m5fb90ef288\" y=\"88.149649\"/>\r\n     <use style=\"fill:#1f77b4;stroke:#1f77b4;\" x=\"266.139618\" xlink:href=\"#m5fb90ef288\" y=\"91.199245\"/>\r\n     <use style=\"fill:#1f77b4;stroke:#1f77b4;\" x=\"244.260438\" xlink:href=\"#m5fb90ef288\" y=\"121.105399\"/>\r\n     <use style=\"fill:#1f77b4;stroke:#1f77b4;\" x=\"268.064718\" xlink:href=\"#m5fb90ef288\" y=\"63.877909\"/>\r\n     <use style=\"fill:#1f77b4;stroke:#1f77b4;\" x=\"263.708133\" xlink:href=\"#m5fb90ef288\" y=\"77.704375\"/>\r\n     <use style=\"fill:#1f77b4;stroke:#1f77b4;\" x=\"222.569583\" xlink:href=\"#m5fb90ef288\" y=\"75.258175\"/>\r\n     <use style=\"fill:#1f77b4;stroke:#1f77b4;\" x=\"238.217298\" xlink:href=\"#m5fb90ef288\" y=\"32.389879\"/>\r\n     <use style=\"fill:#1f77b4;stroke:#1f77b4;\" x=\"270.952368\" xlink:href=\"#m5fb90ef288\" y=\"131.181025\"/>\r\n     <use style=\"fill:#1f77b4;stroke:#1f77b4;\" x=\"256.267203\" xlink:href=\"#m5fb90ef288\" y=\"118.648327\"/>\r\n     <use style=\"fill:#1f77b4;stroke:#1f77b4;\" x=\"248.604468\" xlink:href=\"#m5fb90ef288\" y=\"88.467655\"/>\r\n     <use style=\"fill:#1f77b4;stroke:#1f77b4;\" x=\"184.310313\" xlink:href=\"#m5fb90ef288\" y=\"99.502735\"/>\r\n     <use style=\"fill:#1f77b4;stroke:#1f77b4;\" x=\"268.123308\" xlink:href=\"#m5fb90ef288\" y=\"61.081087\"/>\r\n     <use style=\"fill:#1f77b4;stroke:#1f77b4;\" x=\"238.995708\" xlink:href=\"#m5fb90ef288\" y=\"68.305531\"/>\r\n     <use style=\"fill:#1f77b4;stroke:#1f77b4;\" x=\"263.921568\" xlink:href=\"#m5fb90ef288\" y=\"77.307547\"/>\r\n     <use style=\"fill:#1f77b4;stroke:#1f77b4;\" x=\"276.275688\" xlink:href=\"#m5fb90ef288\" y=\"104.672371\"/>\r\n     <use style=\"fill:#1f77b4;stroke:#1f77b4;\" x=\"304.089198\" xlink:href=\"#m5fb90ef288\" y=\"120.762931\"/>\r\n     <use style=\"fill:#1f77b4;stroke:#1f77b4;\" x=\"262.477743\" xlink:href=\"#m5fb90ef288\" y=\"64.032835\"/>\r\n     <use style=\"fill:#1f77b4;stroke:#1f77b4;\" x=\"220.313868\" xlink:href=\"#m5fb90ef288\" y=\"122.070289\"/>\r\n     <use style=\"fill:#1f77b4;stroke:#1f77b4;\" x=\"205.607778\" xlink:href=\"#m5fb90ef288\" y=\"88.981357\"/>\r\n     <use style=\"fill:#1f77b4;stroke:#1f77b4;\" x=\"225.373533\" xlink:href=\"#m5fb90ef288\" y=\"50.945665\"/>\r\n     <use style=\"fill:#1f77b4;stroke:#1f77b4;\" x=\"304.030608\" xlink:href=\"#m5fb90ef288\" y=\"104.675089\"/>\r\n     <use style=\"fill:#1f77b4;stroke:#1f77b4;\" x=\"251.613483\" xlink:href=\"#m5fb90ef288\" y=\"105.112687\"/>\r\n     <use style=\"fill:#1f77b4;stroke:#1f77b4;\" x=\"293.781543\" xlink:href=\"#m5fb90ef288\" y=\"77.223289\"/>\r\n     <use style=\"fill:#1f77b4;stroke:#1f77b4;\" x=\"353.409423\" xlink:href=\"#m5fb90ef288\" y=\"56.370793\"/>\r\n     <use style=\"fill:#1f77b4;stroke:#1f77b4;\" x=\"202.075638\" xlink:href=\"#m5fb90ef288\" y=\"157.374391\"/>\r\n     <use style=\"fill:#1f77b4;stroke:#1f77b4;\" x=\"229.633863\" xlink:href=\"#m5fb90ef288\" y=\"117.536665\"/>\r\n     <use style=\"fill:#1f77b4;stroke:#1f77b4;\" x=\"298.631957\" xlink:href=\"#m5fb90ef288\" y=\"62.116645\"/>\r\n     <use style=\"fill:#1f77b4;stroke:#1f77b4;\" x=\"273.982308\" xlink:href=\"#m5fb90ef288\" y=\"61.113703\"/>\r\n     <use style=\"fill:#1f77b4;stroke:#1f77b4;\" x=\"264.247997\" xlink:href=\"#m5fb90ef288\" y=\"99.798997\"/>\r\n     <use style=\"fill:#1f77b4;stroke:#1f77b4;\" x=\"263.159898\" xlink:href=\"#m5fb90ef288\" y=\"100.565473\"/>\r\n     <use style=\"fill:#1f77b4;stroke:#1f77b4;\" x=\"180.108573\" xlink:href=\"#m5fb90ef288\" y=\"87.970261\"/>\r\n     <use style=\"fill:#1f77b4;stroke:#1f77b4;\" x=\"238.100118\" xlink:href=\"#m5fb90ef288\" y=\"73.347421\"/>\r\n     <use style=\"fill:#1f77b4;stroke:#1f77b4;\" x=\"258.070938\" xlink:href=\"#m5fb90ef288\" y=\"58.914841\"/>\r\n     <use style=\"fill:#1f77b4;stroke:#1f77b4;\" x=\"268.771983\" xlink:href=\"#m5fb90ef288\" y=\"124.453975\"/>\r\n     <use style=\"fill:#1f77b4;stroke:#1f77b4;\" x=\"198.422133\" xlink:href=\"#m5fb90ef288\" y=\"144.836257\"/>\r\n     <use style=\"fill:#1f77b4;stroke:#1f77b4;\" x=\"208.160628\" xlink:href=\"#m5fb90ef288\" y=\"73.562143\"/>\r\n     <use style=\"fill:#1f77b4;stroke:#1f77b4;\" x=\"254.643423\" xlink:href=\"#m5fb90ef288\" y=\"109.010299\"/>\r\n     <use style=\"fill:#1f77b4;stroke:#1f77b4;\" x=\"220.196688\" xlink:href=\"#m5fb90ef288\" y=\"136.269121\"/>\r\n     <use style=\"fill:#1f77b4;stroke:#1f77b4;\" x=\"205.406898\" xlink:href=\"#m5fb90ef288\" y=\"110.211655\"/>\r\n     <use style=\"fill:#1f77b4;stroke:#1f77b4;\" x=\"273.480108\" xlink:href=\"#m5fb90ef288\" y=\"72.265657\"/>\r\n     <use style=\"fill:#1f77b4;stroke:#1f77b4;\" x=\"273.245747\" xlink:href=\"#m5fb90ef288\" y=\"70.077667\"/>\r\n     <use style=\"fill:#1f77b4;stroke:#1f77b4;\" x=\"289.537953\" xlink:href=\"#m5fb90ef288\" y=\"60.368971\"/>\r\n     <use style=\"fill:#1f77b4;stroke:#1f77b4;\" x=\"221.062983\" xlink:href=\"#m5fb90ef288\" y=\"50.902177\"/>\r\n     <use style=\"fill:#1f77b4;stroke:#1f77b4;\" x=\"227.876163\" xlink:href=\"#m5fb90ef288\" y=\"65.546761\"/>\r\n     <use style=\"fill:#1f77b4;stroke:#1f77b4;\" x=\"353.585193\" xlink:href=\"#m5fb90ef288\" y=\"65.622865\"/>\r\n     <use style=\"fill:#1f77b4;stroke:#1f77b4;\" x=\"300.314327\" xlink:href=\"#m5fb90ef288\" y=\"65.098291\"/>\r\n     <use style=\"fill:#1f77b4;stroke:#1f77b4;\" x=\"267.893133\" xlink:href=\"#m5fb90ef288\" y=\"90.356665\"/>\r\n     <use style=\"fill:#1f77b4;stroke:#1f77b4;\" x=\"220.008363\" xlink:href=\"#m5fb90ef288\" y=\"114.269629\"/>\r\n     <use style=\"fill:#1f77b4;stroke:#1f77b4;\" x=\"243.435993\" xlink:href=\"#m5fb90ef288\" y=\"84.629839\"/>\r\n     <use style=\"fill:#1f77b4;stroke:#1f77b4;\" x=\"322.867293\" xlink:href=\"#m5fb90ef288\" y=\"67.267255\"/>\r\n     <use style=\"fill:#1f77b4;stroke:#1f77b4;\" x=\"196.484478\" xlink:href=\"#m5fb90ef288\" y=\"139.324153\"/>\r\n     <use style=\"fill:#1f77b4;stroke:#1f77b4;\" x=\"302.507268\" xlink:href=\"#m5fb90ef288\" y=\"113.647207\"/>\r\n     <use style=\"fill:#1f77b4;stroke:#1f77b4;\" x=\"209.114808\" xlink:href=\"#m5fb90ef288\" y=\"41.957239\"/>\r\n     <use style=\"fill:#1f77b4;stroke:#1f77b4;\" x=\"300.778863\" xlink:href=\"#m5fb90ef288\" y=\"86.342179\"/>\r\n     <use style=\"fill:#1f77b4;stroke:#1f77b4;\" x=\"290.190813\" xlink:href=\"#m5fb90ef288\" y=\"106.055833\"/>\r\n     <use style=\"fill:#1f77b4;stroke:#1f77b4;\" x=\"197.254518\" xlink:href=\"#m5fb90ef288\" y=\"135.277051\"/>\r\n     <use style=\"fill:#1f77b4;stroke:#1f77b4;\" x=\"254.078448\" xlink:href=\"#m5fb90ef288\" y=\"150.340207\"/>\r\n     <use style=\"fill:#1f77b4;stroke:#1f77b4;\" x=\"238.832493\" xlink:href=\"#m5fb90ef288\" y=\"81.697117\"/>\r\n     <use style=\"fill:#1f77b4;stroke:#1f77b4;\" x=\"170.445408\" xlink:href=\"#m5fb90ef288\" y=\"63.385951\"/>\r\n     <use style=\"fill:#1f77b4;stroke:#1f77b4;\" x=\"255.714783\" xlink:href=\"#m5fb90ef288\" y=\"72.643459\"/>\r\n     <use style=\"fill:#1f77b4;stroke:#1f77b4;\" x=\"200.263533\" xlink:href=\"#m5fb90ef288\" y=\"140.153143\"/>\r\n     <use style=\"fill:#1f77b4;stroke:#1f77b4;\" x=\"284.214632\" xlink:href=\"#m5fb90ef288\" y=\"119.056027\"/>\r\n     <use style=\"fill:#1f77b4;stroke:#1f77b4;\" x=\"252.178458\" xlink:href=\"#m5fb90ef288\" y=\"93.732421\"/>\r\n     <use style=\"fill:#1f77b4;stroke:#1f77b4;\" x=\"242.460888\" xlink:href=\"#m5fb90ef288\" y=\"122.836765\"/>\r\n     <use style=\"fill:#1f77b4;stroke:#1f77b4;\" x=\"239.585793\" xlink:href=\"#m5fb90ef288\" y=\"109.273945\"/>\r\n     <use style=\"fill:#1f77b4;stroke:#1f77b4;\" x=\"216.614328\" xlink:href=\"#m5fb90ef288\" y=\"26.703823\"/>\r\n     <use style=\"fill:#1f77b4;stroke:#1f77b4;\" x=\"319.243083\" xlink:href=\"#m5fb90ef288\" y=\"68.131579\"/>\r\n     <use style=\"fill:#1f77b4;stroke:#1f77b4;\" x=\"241.527633\" xlink:href=\"#m5fb90ef288\" y=\"101.312923\"/>\r\n     <use style=\"fill:#1f77b4;stroke:#1f77b4;\" x=\"274.894638\" xlink:href=\"#m5fb90ef288\" y=\"94.338535\"/>\r\n     <use style=\"fill:#1f77b4;stroke:#1f77b4;\" x=\"266.206578\" xlink:href=\"#m5fb90ef288\" y=\"101.326513\"/>\r\n    </g>\r\n   </g>\r\n   <g id=\"PathCollection_2\">\r\n    <defs>\r\n     <path d=\"M 0 3 \r\nC 0.795609 3 1.55874 2.683901 2.12132 2.12132 \r\nC 2.683901 1.55874 3 0.795609 3 0 \r\nC 3 -0.795609 2.683901 -1.55874 2.12132 -2.12132 \r\nC 1.55874 -2.683901 0.795609 -3 0 -3 \r\nC -0.795609 -3 -1.55874 -2.683901 -2.12132 -2.12132 \r\nC -2.683901 -1.55874 -3 -0.795609 -3 0 \r\nC -3 0.795609 -2.683901 1.55874 -2.12132 2.12132 \r\nC -1.55874 2.683901 -0.795609 3 0 3 \r\nz\r\n\" id=\"md21dac3a19\" style=\"stroke:#ff7f0e;\"/>\r\n    </defs>\r\n    <g clip-path=\"url(#p04a2066136)\">\r\n     <use style=\"fill:#ff7f0e;stroke:#ff7f0e;\" x=\"226.377933\" xlink:href=\"#md21dac3a19\" y=\"177.172303\"/>\r\n     <use style=\"fill:#ff7f0e;stroke:#ff7f0e;\" x=\"222.536103\" xlink:href=\"#md21dac3a19\" y=\"75.404947\"/>\r\n     <use style=\"fill:#ff7f0e;stroke:#ff7f0e;\" x=\"268.445553\" xlink:href=\"#md21dac3a19\" y=\"75.304381\"/>\r\n     <use style=\"fill:#ff7f0e;stroke:#ff7f0e;\" x=\"235.940658\" xlink:href=\"#md21dac3a19\" y=\"97.333771\"/>\r\n     <use style=\"fill:#ff7f0e;stroke:#ff7f0e;\" x=\"176.689428\" xlink:href=\"#md21dac3a19\" y=\"129.093601\"/>\r\n     <use style=\"fill:#ff7f0e;stroke:#ff7f0e;\" x=\"179.681703\" xlink:href=\"#md21dac3a19\" y=\"105.944395\"/>\r\n     <use style=\"fill:#ff7f0e;stroke:#ff7f0e;\" x=\"220.468713\" xlink:href=\"#md21dac3a19\" y=\"135.355873\"/>\r\n     <use style=\"fill:#ff7f0e;stroke:#ff7f0e;\" x=\"157.049223\" xlink:href=\"#md21dac3a19\" y=\"101.103637\"/>\r\n     <use style=\"fill:#ff7f0e;stroke:#ff7f0e;\" x=\"189.357423\" xlink:href=\"#md21dac3a19\" y=\"66.794323\"/>\r\n     <use style=\"fill:#ff7f0e;stroke:#ff7f0e;\" x=\"221.623773\" xlink:href=\"#md21dac3a19\" y=\"112.540981\"/>\r\n     <use style=\"fill:#ff7f0e;stroke:#ff7f0e;\" x=\"143.594448\" xlink:href=\"#md21dac3a19\" y=\"113.872801\"/>\r\n     <use style=\"fill:#ff7f0e;stroke:#ff7f0e;\" x=\"211.081758\" xlink:href=\"#md21dac3a19\" y=\"114.351169\"/>\r\n     <use style=\"fill:#ff7f0e;stroke:#ff7f0e;\" x=\"223.774863\" xlink:href=\"#md21dac3a19\" y=\"105.335563\"/>\r\n     <use style=\"fill:#ff7f0e;stroke:#ff7f0e;\" x=\"195.647478\" xlink:href=\"#md21dac3a19\" y=\"88.435039\"/>\r\n     <use style=\"fill:#ff7f0e;stroke:#ff7f0e;\" x=\"199.920363\" xlink:href=\"#md21dac3a19\" y=\"64.823773\"/>\r\n     <use style=\"fill:#ff7f0e;stroke:#ff7f0e;\" x=\"199.593933\" xlink:href=\"#md21dac3a19\" y=\"134.994379\"/>\r\n     <use style=\"fill:#ff7f0e;stroke:#ff7f0e;\" x=\"140.204598\" xlink:href=\"#md21dac3a19\" y=\"118.977205\"/>\r\n     <use style=\"fill:#ff7f0e;stroke:#ff7f0e;\" x=\"230.701038\" xlink:href=\"#md21dac3a19\" y=\"106.577689\"/>\r\n     <use style=\"fill:#ff7f0e;stroke:#ff7f0e;\" x=\"133.466748\" xlink:href=\"#md21dac3a19\" y=\"176.837989\"/>\r\n     <use style=\"fill:#ff7f0e;stroke:#ff7f0e;\" x=\"139.250418\" xlink:href=\"#md21dac3a19\" y=\"92.832763\"/>\r\n     <use style=\"fill:#ff7f0e;stroke:#ff7f0e;\" x=\"270.153032\" xlink:href=\"#md21dac3a19\" y=\"107.836123\"/>\r\n     <use style=\"fill:#ff7f0e;stroke:#ff7f0e;\" x=\"188.198178\" xlink:href=\"#md21dac3a19\" y=\"148.712125\"/>\r\n     <use style=\"fill:#ff7f0e;stroke:#ff7f0e;\" x=\"153.726333\" xlink:href=\"#md21dac3a19\" y=\"105.887317\"/>\r\n     <use style=\"fill:#ff7f0e;stroke:#ff7f0e;\" x=\"242.611548\" xlink:href=\"#md21dac3a19\" y=\"127.049665\"/>\r\n     <use style=\"fill:#ff7f0e;stroke:#ff7f0e;\" x=\"153.249243\" xlink:href=\"#md21dac3a19\" y=\"116.397823\"/>\r\n     <use style=\"fill:#ff7f0e;stroke:#ff7f0e;\" x=\"194.852328\" xlink:href=\"#md21dac3a19\" y=\"91.772743\"/>\r\n     <use style=\"fill:#ff7f0e;stroke:#ff7f0e;\" x=\"205.503153\" xlink:href=\"#md21dac3a19\" y=\"124.111507\"/>\r\n     <use style=\"fill:#ff7f0e;stroke:#ff7f0e;\" x=\"230.671743\" xlink:href=\"#md21dac3a19\" y=\"87.437533\"/>\r\n     <use style=\"fill:#ff7f0e;stroke:#ff7f0e;\" x=\"295.606203\" xlink:href=\"#md21dac3a19\" y=\"58.175545\"/>\r\n     <use style=\"fill:#ff7f0e;stroke:#ff7f0e;\" x=\"181.698873\" xlink:href=\"#md21dac3a19\" y=\"158.855701\"/>\r\n     <use style=\"fill:#ff7f0e;stroke:#ff7f0e;\" x=\"194.705853\" xlink:href=\"#md21dac3a19\" y=\"114.016855\"/>\r\n     <use style=\"fill:#ff7f0e;stroke:#ff7f0e;\" x=\"135.341628\" xlink:href=\"#md21dac3a19\" y=\"158.660005\"/>\r\n     <use style=\"fill:#ff7f0e;stroke:#ff7f0e;\" x=\"219.736338\" xlink:href=\"#md21dac3a19\" y=\"69.667249\"/>\r\n     <use style=\"fill:#ff7f0e;stroke:#ff7f0e;\" x=\"183.921108\" xlink:href=\"#md21dac3a19\" y=\"127.949323\"/>\r\n     <use style=\"fill:#ff7f0e;stroke:#ff7f0e;\" x=\"140.217153\" xlink:href=\"#md21dac3a19\" y=\"188.430259\"/>\r\n     <use style=\"fill:#ff7f0e;stroke:#ff7f0e;\" x=\"78.526068\" xlink:href=\"#md21dac3a19\" y=\"149.532961\"/>\r\n     <use style=\"fill:#ff7f0e;stroke:#ff7f0e;\" x=\"186.423738\" xlink:href=\"#md21dac3a19\" y=\"133.263013\"/>\r\n     <use style=\"fill:#ff7f0e;stroke:#ff7f0e;\" x=\"245.453163\" xlink:href=\"#md21dac3a19\" y=\"94.713619\"/>\r\n     <use style=\"fill:#ff7f0e;stroke:#ff7f0e;\" x=\"229.181883\" xlink:href=\"#md21dac3a19\" y=\"95.270809\"/>\r\n     <use style=\"fill:#ff7f0e;stroke:#ff7f0e;\" x=\"191.788908\" xlink:href=\"#md21dac3a19\" y=\"76.546507\"/>\r\n     <use style=\"fill:#ff7f0e;stroke:#ff7f0e;\" x=\"217.761018\" xlink:href=\"#md21dac3a19\" y=\"131.961091\"/>\r\n     <use style=\"fill:#ff7f0e;stroke:#ff7f0e;\" x=\"189.658743\" xlink:href=\"#md21dac3a19\" y=\"125.008447\"/>\r\n     <use style=\"fill:#ff7f0e;stroke:#ff7f0e;\" x=\"256.057953\" xlink:href=\"#md21dac3a19\" y=\"94.501615\"/>\r\n     <use style=\"fill:#ff7f0e;stroke:#ff7f0e;\" x=\"206.248083\" xlink:href=\"#md21dac3a19\" y=\"112.641547\"/>\r\n     <use style=\"fill:#ff7f0e;stroke:#ff7f0e;\" x=\"272.057208\" xlink:href=\"#md21dac3a19\" y=\"62.377573\"/>\r\n     <use style=\"fill:#ff7f0e;stroke:#ff7f0e;\" x=\"163.841478\" xlink:href=\"#md21dac3a19\" y=\"114.989899\"/>\r\n     <use style=\"fill:#ff7f0e;stroke:#ff7f0e;\" x=\"212.609283\" xlink:href=\"#md21dac3a19\" y=\"112.402363\"/>\r\n     <use style=\"fill:#ff7f0e;stroke:#ff7f0e;\" x=\"178.342503\" xlink:href=\"#md21dac3a19\" y=\"101.073739\"/>\r\n     <use style=\"fill:#ff7f0e;stroke:#ff7f0e;\" x=\"225.252168\" xlink:href=\"#md21dac3a19\" y=\"96.265597\"/>\r\n     <use style=\"fill:#ff7f0e;stroke:#ff7f0e;\" x=\"217.874013\" xlink:href=\"#md21dac3a19\" y=\"134.013181\"/>\r\n     <use style=\"fill:#ff7f0e;stroke:#ff7f0e;\" x=\"269.751273\" xlink:href=\"#md21dac3a19\" y=\"152.223781\"/>\r\n     <use style=\"fill:#ff7f0e;stroke:#ff7f0e;\" x=\"208.315473\" xlink:href=\"#md21dac3a19\" y=\"107.822533\"/>\r\n     <use style=\"fill:#ff7f0e;stroke:#ff7f0e;\" x=\"151.960263\" xlink:href=\"#md21dac3a19\" y=\"122.151829\"/>\r\n     <use style=\"fill:#ff7f0e;stroke:#ff7f0e;\" x=\"249.069003\" xlink:href=\"#md21dac3a19\" y=\"96.923353\"/>\r\n     <use style=\"fill:#ff7f0e;stroke:#ff7f0e;\" x=\"189.708963\" xlink:href=\"#md21dac3a19\" y=\"122.442655\"/>\r\n     <use style=\"fill:#ff7f0e;stroke:#ff7f0e;\" x=\"170.570958\" xlink:href=\"#md21dac3a19\" y=\"96.510217\"/>\r\n     <use style=\"fill:#ff7f0e;stroke:#ff7f0e;\" x=\"262.511223\" xlink:href=\"#md21dac3a19\" y=\"89.967991\"/>\r\n     <use style=\"fill:#ff7f0e;stroke:#ff7f0e;\" x=\"231.429228\" xlink:href=\"#md21dac3a19\" y=\"80.737663\"/>\r\n     <use style=\"fill:#ff7f0e;stroke:#ff7f0e;\" x=\"186.833868\" xlink:href=\"#md21dac3a19\" y=\"100.581781\"/>\r\n     <use style=\"fill:#ff7f0e;stroke:#ff7f0e;\" x=\"195.321048\" xlink:href=\"#md21dac3a19\" y=\"140.685871\"/>\r\n     <use style=\"fill:#ff7f0e;stroke:#ff7f0e;\" x=\"212.743203\" xlink:href=\"#md21dac3a19\" y=\"128.308099\"/>\r\n     <use style=\"fill:#ff7f0e;stroke:#ff7f0e;\" x=\"249.073188\" xlink:href=\"#md21dac3a19\" y=\"112.739395\"/>\r\n     <use style=\"fill:#ff7f0e;stroke:#ff7f0e;\" x=\"170.872278\" xlink:href=\"#md21dac3a19\" y=\"108.341671\"/>\r\n     <use style=\"fill:#ff7f0e;stroke:#ff7f0e;\" x=\"151.047933\" xlink:href=\"#md21dac3a19\" y=\"95.928565\"/>\r\n     <use style=\"fill:#ff7f0e;stroke:#ff7f0e;\" x=\"233.099043\" xlink:href=\"#md21dac3a19\" y=\"126.212521\"/>\r\n     <use style=\"fill:#ff7f0e;stroke:#ff7f0e;\" x=\"256.275573\" xlink:href=\"#md21dac3a19\" y=\"72.651613\"/>\r\n     <use style=\"fill:#ff7f0e;stroke:#ff7f0e;\" x=\"190.006098\" xlink:href=\"#md21dac3a19\" y=\"124.068019\"/>\r\n     <use style=\"fill:#ff7f0e;stroke:#ff7f0e;\" x=\"236.467968\" xlink:href=\"#md21dac3a19\" y=\"117.275737\"/>\r\n     <use style=\"fill:#ff7f0e;stroke:#ff7f0e;\" x=\"222.251523\" xlink:href=\"#md21dac3a19\" y=\"113.005759\"/>\r\n     <use style=\"fill:#ff7f0e;stroke:#ff7f0e;\" x=\"175.844058\" xlink:href=\"#md21dac3a19\" y=\"118.860331\"/>\r\n     <use style=\"fill:#ff7f0e;stroke:#ff7f0e;\" x=\"144.130128\" xlink:href=\"#md21dac3a19\" y=\"108.344389\"/>\r\n     <use style=\"fill:#ff7f0e;stroke:#ff7f0e;\" x=\"299.732613\" xlink:href=\"#md21dac3a19\" y=\"139.356769\"/>\r\n     <use style=\"fill:#ff7f0e;stroke:#ff7f0e;\" x=\"80.639493\" xlink:href=\"#md21dac3a19\" y=\"201.957745\"/>\r\n     <use style=\"fill:#ff7f0e;stroke:#ff7f0e;\" x=\"165.837723\" xlink:href=\"#md21dac3a19\" y=\"109.078249\"/>\r\n     <use style=\"fill:#ff7f0e;stroke:#ff7f0e;\" x=\"257.079093\" xlink:href=\"#md21dac3a19\" y=\"83.338789\"/>\r\n     <use style=\"fill:#ff7f0e;stroke:#ff7f0e;\" x=\"183.858333\" xlink:href=\"#md21dac3a19\" y=\"143.797981\"/>\r\n     <use style=\"fill:#ff7f0e;stroke:#ff7f0e;\" x=\"178.702413\" xlink:href=\"#md21dac3a19\" y=\"171.986359\"/>\r\n     <use style=\"fill:#ff7f0e;stroke:#ff7f0e;\" x=\"179.685888\" xlink:href=\"#md21dac3a19\" y=\"99.097753\"/>\r\n     <use style=\"fill:#ff7f0e;stroke:#ff7f0e;\" x=\"225.273093\" xlink:href=\"#md21dac3a19\" y=\"126.601195\"/>\r\n     <use style=\"fill:#ff7f0e;stroke:#ff7f0e;\" x=\"166.147413\" xlink:href=\"#md21dac3a19\" y=\"97.594699\"/>\r\n     <use style=\"fill:#ff7f0e;stroke:#ff7f0e;\" x=\"186.704133\" xlink:href=\"#md21dac3a19\" y=\"86.834137\"/>\r\n     <use style=\"fill:#ff7f0e;stroke:#ff7f0e;\" x=\"218.991408\" xlink:href=\"#md21dac3a19\" y=\"117.446971\"/>\r\n     <use style=\"fill:#ff7f0e;stroke:#ff7f0e;\" x=\"210.035508\" xlink:href=\"#md21dac3a19\" y=\"113.190583\"/>\r\n     <use style=\"fill:#ff7f0e;stroke:#ff7f0e;\" x=\"202.184448\" xlink:href=\"#md21dac3a19\" y=\"103.226395\"/>\r\n     <use style=\"fill:#ff7f0e;stroke:#ff7f0e;\" x=\"262.042503\" xlink:href=\"#md21dac3a19\" y=\"64.600897\"/>\r\n     <use style=\"fill:#ff7f0e;stroke:#ff7f0e;\" x=\"235.103658\" xlink:href=\"#md21dac3a19\" y=\"124.820905\"/>\r\n     <use style=\"fill:#ff7f0e;stroke:#ff7f0e;\" x=\"248.575173\" xlink:href=\"#md21dac3a19\" y=\"83.257249\"/>\r\n     <use style=\"fill:#ff7f0e;stroke:#ff7f0e;\" x=\"218.648238\" xlink:href=\"#md21dac3a19\" y=\"103.557991\"/>\r\n     <use style=\"fill:#ff7f0e;stroke:#ff7f0e;\" x=\"191.885163\" xlink:href=\"#md21dac3a19\" y=\"113.932597\"/>\r\n     <use style=\"fill:#ff7f0e;stroke:#ff7f0e;\" x=\"169.616778\" xlink:href=\"#md21dac3a19\" y=\"126.919201\"/>\r\n     <use style=\"fill:#ff7f0e;stroke:#ff7f0e;\" x=\"206.767023\" xlink:href=\"#md21dac3a19\" y=\"126.780583\"/>\r\n     <use style=\"fill:#ff7f0e;stroke:#ff7f0e;\" x=\"220.677963\" xlink:href=\"#md21dac3a19\" y=\"80.071753\"/>\r\n     <use style=\"fill:#ff7f0e;stroke:#ff7f0e;\" x=\"151.060488\" xlink:href=\"#md21dac3a19\" y=\"146.323003\"/>\r\n     <use style=\"fill:#ff7f0e;stroke:#ff7f0e;\" x=\"227.482773\" xlink:href=\"#md21dac3a19\" y=\"109.339177\"/>\r\n     <use style=\"fill:#ff7f0e;stroke:#ff7f0e;\" x=\"259.903968\" xlink:href=\"#md21dac3a19\" y=\"101.965243\"/>\r\n     <use style=\"fill:#ff7f0e;stroke:#ff7f0e;\" x=\"171.964563\" xlink:href=\"#md21dac3a19\" y=\"119.480035\"/>\r\n     <use style=\"fill:#ff7f0e;stroke:#ff7f0e;\" x=\"143.364273\" xlink:href=\"#md21dac3a19\" y=\"136.600717\"/>\r\n     <use style=\"fill:#ff7f0e;stroke:#ff7f0e;\" x=\"252.211938\" xlink:href=\"#md21dac3a19\" y=\"122.782405\"/>\r\n     <use style=\"fill:#ff7f0e;stroke:#ff7f0e;\" x=\"191.759613\" xlink:href=\"#md21dac3a19\" y=\"114.391939\"/>\r\n     <use style=\"fill:#ff7f0e;stroke:#ff7f0e;\" x=\"259.146483\" xlink:href=\"#md21dac3a19\" y=\"88.557349\"/>\r\n    </g>\r\n   </g>\r\n   <g id=\"matplotlib.axis_1\">\r\n    <g id=\"xtick_1\">\r\n     <g id=\"line2d_1\">\r\n      <defs>\r\n       <path d=\"M 0 0 \r\nL 0 3.5 \r\n\" id=\"m86096ad2c9\" style=\"stroke:#000000;stroke-width:0.8;\"/>\r\n      </defs>\r\n      <g>\r\n       <use style=\"stroke:#000000;stroke-width:0.8;\" x=\"28.942188\" xlink:href=\"#m86096ad2c9\" y=\"228.439219\"/>\r\n      </g>\r\n     </g>\r\n     <g id=\"text_1\">\r\n      <!-- −4 -->\r\n      <g transform=\"translate(21.571094 243.037656)scale(0.1 -0.1)\">\r\n       <defs>\r\n        <path d=\"M 10.59375 35.5 \r\nL 73.1875 35.5 \r\nL 73.1875 27.203125 \r\nL 10.59375 27.203125 \r\nz\r\n\" id=\"DejaVuSans-8722\"/>\r\n        <path d=\"M 37.796875 64.3125 \r\nL 12.890625 25.390625 \r\nL 37.796875 25.390625 \r\nz\r\nM 35.203125 72.90625 \r\nL 47.609375 72.90625 \r\nL 47.609375 25.390625 \r\nL 58.015625 25.390625 \r\nL 58.015625 17.1875 \r\nL 47.609375 17.1875 \r\nL 47.609375 0 \r\nL 37.796875 0 \r\nL 37.796875 17.1875 \r\nL 4.890625 17.1875 \r\nL 4.890625 26.703125 \r\nz\r\n\" id=\"DejaVuSans-52\"/>\r\n       </defs>\r\n       <use xlink:href=\"#DejaVuSans-8722\"/>\r\n       <use x=\"83.789062\" xlink:href=\"#DejaVuSans-52\"/>\r\n      </g>\r\n     </g>\r\n    </g>\r\n    <g id=\"xtick_2\">\r\n     <g id=\"line2d_2\">\r\n      <g>\r\n       <use style=\"stroke:#000000;stroke-width:0.8;\" x=\"70.792188\" xlink:href=\"#m86096ad2c9\" y=\"228.439219\"/>\r\n      </g>\r\n     </g>\r\n     <g id=\"text_2\">\r\n      <!-- −3 -->\r\n      <g transform=\"translate(63.421094 243.037656)scale(0.1 -0.1)\">\r\n       <defs>\r\n        <path d=\"M 40.578125 39.3125 \r\nQ 47.65625 37.796875 51.625 33 \r\nQ 55.609375 28.21875 55.609375 21.1875 \r\nQ 55.609375 10.40625 48.1875 4.484375 \r\nQ 40.765625 -1.421875 27.09375 -1.421875 \r\nQ 22.515625 -1.421875 17.65625 -0.515625 \r\nQ 12.796875 0.390625 7.625 2.203125 \r\nL 7.625 11.71875 \r\nQ 11.71875 9.328125 16.59375 8.109375 \r\nQ 21.484375 6.890625 26.8125 6.890625 \r\nQ 36.078125 6.890625 40.9375 10.546875 \r\nQ 45.796875 14.203125 45.796875 21.1875 \r\nQ 45.796875 27.640625 41.28125 31.265625 \r\nQ 36.765625 34.90625 28.71875 34.90625 \r\nL 20.21875 34.90625 \r\nL 20.21875 43.015625 \r\nL 29.109375 43.015625 \r\nQ 36.375 43.015625 40.234375 45.921875 \r\nQ 44.09375 48.828125 44.09375 54.296875 \r\nQ 44.09375 59.90625 40.109375 62.90625 \r\nQ 36.140625 65.921875 28.71875 65.921875 \r\nQ 24.65625 65.921875 20.015625 65.03125 \r\nQ 15.375 64.15625 9.8125 62.3125 \r\nL 9.8125 71.09375 \r\nQ 15.4375 72.65625 20.34375 73.4375 \r\nQ 25.25 74.21875 29.59375 74.21875 \r\nQ 40.828125 74.21875 47.359375 69.109375 \r\nQ 53.90625 64.015625 53.90625 55.328125 \r\nQ 53.90625 49.265625 50.4375 45.09375 \r\nQ 46.96875 40.921875 40.578125 39.3125 \r\nz\r\n\" id=\"DejaVuSans-51\"/>\r\n       </defs>\r\n       <use xlink:href=\"#DejaVuSans-8722\"/>\r\n       <use x=\"83.789062\" xlink:href=\"#DejaVuSans-51\"/>\r\n      </g>\r\n     </g>\r\n    </g>\r\n    <g id=\"xtick_3\">\r\n     <g id=\"line2d_3\">\r\n      <g>\r\n       <use style=\"stroke:#000000;stroke-width:0.8;\" x=\"112.642188\" xlink:href=\"#m86096ad2c9\" y=\"228.439219\"/>\r\n      </g>\r\n     </g>\r\n     <g id=\"text_3\">\r\n      <!-- −2 -->\r\n      <g transform=\"translate(105.271094 243.037656)scale(0.1 -0.1)\">\r\n       <defs>\r\n        <path d=\"M 19.1875 8.296875 \r\nL 53.609375 8.296875 \r\nL 53.609375 0 \r\nL 7.328125 0 \r\nL 7.328125 8.296875 \r\nQ 12.9375 14.109375 22.625 23.890625 \r\nQ 32.328125 33.6875 34.8125 36.53125 \r\nQ 39.546875 41.84375 41.421875 45.53125 \r\nQ 43.3125 49.21875 43.3125 52.78125 \r\nQ 43.3125 58.59375 39.234375 62.25 \r\nQ 35.15625 65.921875 28.609375 65.921875 \r\nQ 23.96875 65.921875 18.8125 64.3125 \r\nQ 13.671875 62.703125 7.8125 59.421875 \r\nL 7.8125 69.390625 \r\nQ 13.765625 71.78125 18.9375 73 \r\nQ 24.125 74.21875 28.421875 74.21875 \r\nQ 39.75 74.21875 46.484375 68.546875 \r\nQ 53.21875 62.890625 53.21875 53.421875 \r\nQ 53.21875 48.921875 51.53125 44.890625 \r\nQ 49.859375 40.875 45.40625 35.40625 \r\nQ 44.1875 33.984375 37.640625 27.21875 \r\nQ 31.109375 20.453125 19.1875 8.296875 \r\nz\r\n\" id=\"DejaVuSans-50\"/>\r\n       </defs>\r\n       <use xlink:href=\"#DejaVuSans-8722\"/>\r\n       <use x=\"83.789062\" xlink:href=\"#DejaVuSans-50\"/>\r\n      </g>\r\n     </g>\r\n    </g>\r\n    <g id=\"xtick_4\">\r\n     <g id=\"line2d_4\">\r\n      <g>\r\n       <use style=\"stroke:#000000;stroke-width:0.8;\" x=\"154.492188\" xlink:href=\"#m86096ad2c9\" y=\"228.439219\"/>\r\n      </g>\r\n     </g>\r\n     <g id=\"text_4\">\r\n      <!-- −1 -->\r\n      <g transform=\"translate(147.121094 243.037656)scale(0.1 -0.1)\">\r\n       <defs>\r\n        <path d=\"M 12.40625 8.296875 \r\nL 28.515625 8.296875 \r\nL 28.515625 63.921875 \r\nL 10.984375 60.40625 \r\nL 10.984375 69.390625 \r\nL 28.421875 72.90625 \r\nL 38.28125 72.90625 \r\nL 38.28125 8.296875 \r\nL 54.390625 8.296875 \r\nL 54.390625 0 \r\nL 12.40625 0 \r\nz\r\n\" id=\"DejaVuSans-49\"/>\r\n       </defs>\r\n       <use xlink:href=\"#DejaVuSans-8722\"/>\r\n       <use x=\"83.789062\" xlink:href=\"#DejaVuSans-49\"/>\r\n      </g>\r\n     </g>\r\n    </g>\r\n    <g id=\"xtick_5\">\r\n     <g id=\"line2d_5\">\r\n      <g>\r\n       <use style=\"stroke:#000000;stroke-width:0.8;\" x=\"196.342188\" xlink:href=\"#m86096ad2c9\" y=\"228.439219\"/>\r\n      </g>\r\n     </g>\r\n     <g id=\"text_5\">\r\n      <!-- 0 -->\r\n      <g transform=\"translate(193.160938 243.037656)scale(0.1 -0.1)\">\r\n       <defs>\r\n        <path d=\"M 31.78125 66.40625 \r\nQ 24.171875 66.40625 20.328125 58.90625 \r\nQ 16.5 51.421875 16.5 36.375 \r\nQ 16.5 21.390625 20.328125 13.890625 \r\nQ 24.171875 6.390625 31.78125 6.390625 \r\nQ 39.453125 6.390625 43.28125 13.890625 \r\nQ 47.125 21.390625 47.125 36.375 \r\nQ 47.125 51.421875 43.28125 58.90625 \r\nQ 39.453125 66.40625 31.78125 66.40625 \r\nz\r\nM 31.78125 74.21875 \r\nQ 44.046875 74.21875 50.515625 64.515625 \r\nQ 56.984375 54.828125 56.984375 36.375 \r\nQ 56.984375 17.96875 50.515625 8.265625 \r\nQ 44.046875 -1.421875 31.78125 -1.421875 \r\nQ 19.53125 -1.421875 13.0625 8.265625 \r\nQ 6.59375 17.96875 6.59375 36.375 \r\nQ 6.59375 54.828125 13.0625 64.515625 \r\nQ 19.53125 74.21875 31.78125 74.21875 \r\nz\r\n\" id=\"DejaVuSans-48\"/>\r\n       </defs>\r\n       <use xlink:href=\"#DejaVuSans-48\"/>\r\n      </g>\r\n     </g>\r\n    </g>\r\n    <g id=\"xtick_6\">\r\n     <g id=\"line2d_6\">\r\n      <g>\r\n       <use style=\"stroke:#000000;stroke-width:0.8;\" x=\"238.192188\" xlink:href=\"#m86096ad2c9\" y=\"228.439219\"/>\r\n      </g>\r\n     </g>\r\n     <g id=\"text_6\">\r\n      <!-- 1 -->\r\n      <g transform=\"translate(235.010938 243.037656)scale(0.1 -0.1)\">\r\n       <use xlink:href=\"#DejaVuSans-49\"/>\r\n      </g>\r\n     </g>\r\n    </g>\r\n    <g id=\"xtick_7\">\r\n     <g id=\"line2d_7\">\r\n      <g>\r\n       <use style=\"stroke:#000000;stroke-width:0.8;\" x=\"280.042188\" xlink:href=\"#m86096ad2c9\" y=\"228.439219\"/>\r\n      </g>\r\n     </g>\r\n     <g id=\"text_7\">\r\n      <!-- 2 -->\r\n      <g transform=\"translate(276.860938 243.037656)scale(0.1 -0.1)\">\r\n       <use xlink:href=\"#DejaVuSans-50\"/>\r\n      </g>\r\n     </g>\r\n    </g>\r\n    <g id=\"xtick_8\">\r\n     <g id=\"line2d_8\">\r\n      <g>\r\n       <use style=\"stroke:#000000;stroke-width:0.8;\" x=\"321.892188\" xlink:href=\"#m86096ad2c9\" y=\"228.439219\"/>\r\n      </g>\r\n     </g>\r\n     <g id=\"text_8\">\r\n      <!-- 3 -->\r\n      <g transform=\"translate(318.710938 243.037656)scale(0.1 -0.1)\">\r\n       <use xlink:href=\"#DejaVuSans-51\"/>\r\n      </g>\r\n     </g>\r\n    </g>\r\n    <g id=\"xtick_9\">\r\n     <g id=\"line2d_9\">\r\n      <g>\r\n       <use style=\"stroke:#000000;stroke-width:0.8;\" x=\"363.742188\" xlink:href=\"#m86096ad2c9\" y=\"228.439219\"/>\r\n      </g>\r\n     </g>\r\n     <g id=\"text_9\">\r\n      <!-- 4 -->\r\n      <g transform=\"translate(360.560938 243.037656)scale(0.1 -0.1)\">\r\n       <use xlink:href=\"#DejaVuSans-52\"/>\r\n      </g>\r\n     </g>\r\n    </g>\r\n   </g>\r\n   <g id=\"matplotlib.axis_2\">\r\n    <g id=\"ytick_1\">\r\n     <g id=\"line2d_10\">\r\n      <defs>\r\n       <path d=\"M 0 0 \r\nL -3.5 0 \r\n\" id=\"mc979886f8d\" style=\"stroke:#000000;stroke-width:0.8;\"/>\r\n      </defs>\r\n      <g>\r\n       <use style=\"stroke:#000000;stroke-width:0.8;\" x=\"28.942188\" xlink:href=\"#mc979886f8d\" y=\"228.439219\"/>\r\n      </g>\r\n     </g>\r\n     <g id=\"text_10\">\r\n      <!-- −4 -->\r\n      <g transform=\"translate(7.2 232.238437)scale(0.1 -0.1)\">\r\n       <use xlink:href=\"#DejaVuSans-8722\"/>\r\n       <use x=\"83.789062\" xlink:href=\"#DejaVuSans-52\"/>\r\n      </g>\r\n     </g>\r\n    </g>\r\n    <g id=\"ytick_2\">\r\n     <g id=\"line2d_11\">\r\n      <g>\r\n       <use style=\"stroke:#000000;stroke-width:0.8;\" x=\"28.942188\" xlink:href=\"#mc979886f8d\" y=\"201.259219\"/>\r\n      </g>\r\n     </g>\r\n     <g id=\"text_11\">\r\n      <!-- −3 -->\r\n      <g transform=\"translate(7.2 205.058437)scale(0.1 -0.1)\">\r\n       <use xlink:href=\"#DejaVuSans-8722\"/>\r\n       <use x=\"83.789062\" xlink:href=\"#DejaVuSans-51\"/>\r\n      </g>\r\n     </g>\r\n    </g>\r\n    <g id=\"ytick_3\">\r\n     <g id=\"line2d_12\">\r\n      <g>\r\n       <use style=\"stroke:#000000;stroke-width:0.8;\" x=\"28.942188\" xlink:href=\"#mc979886f8d\" y=\"174.079219\"/>\r\n      </g>\r\n     </g>\r\n     <g id=\"text_12\">\r\n      <!-- −2 -->\r\n      <g transform=\"translate(7.2 177.878437)scale(0.1 -0.1)\">\r\n       <use xlink:href=\"#DejaVuSans-8722\"/>\r\n       <use x=\"83.789062\" xlink:href=\"#DejaVuSans-50\"/>\r\n      </g>\r\n     </g>\r\n    </g>\r\n    <g id=\"ytick_4\">\r\n     <g id=\"line2d_13\">\r\n      <g>\r\n       <use style=\"stroke:#000000;stroke-width:0.8;\" x=\"28.942188\" xlink:href=\"#mc979886f8d\" y=\"146.899219\"/>\r\n      </g>\r\n     </g>\r\n     <g id=\"text_13\">\r\n      <!-- −1 -->\r\n      <g transform=\"translate(7.2 150.698437)scale(0.1 -0.1)\">\r\n       <use xlink:href=\"#DejaVuSans-8722\"/>\r\n       <use x=\"83.789062\" xlink:href=\"#DejaVuSans-49\"/>\r\n      </g>\r\n     </g>\r\n    </g>\r\n    <g id=\"ytick_5\">\r\n     <g id=\"line2d_14\">\r\n      <g>\r\n       <use style=\"stroke:#000000;stroke-width:0.8;\" x=\"28.942188\" xlink:href=\"#mc979886f8d\" y=\"119.719219\"/>\r\n      </g>\r\n     </g>\r\n     <g id=\"text_14\">\r\n      <!-- 0 -->\r\n      <g transform=\"translate(15.579688 123.518437)scale(0.1 -0.1)\">\r\n       <use xlink:href=\"#DejaVuSans-48\"/>\r\n      </g>\r\n     </g>\r\n    </g>\r\n    <g id=\"ytick_6\">\r\n     <g id=\"line2d_15\">\r\n      <g>\r\n       <use style=\"stroke:#000000;stroke-width:0.8;\" x=\"28.942188\" xlink:href=\"#mc979886f8d\" y=\"92.539219\"/>\r\n      </g>\r\n     </g>\r\n     <g id=\"text_15\">\r\n      <!-- 1 -->\r\n      <g transform=\"translate(15.579688 96.338437)scale(0.1 -0.1)\">\r\n       <use xlink:href=\"#DejaVuSans-49\"/>\r\n      </g>\r\n     </g>\r\n    </g>\r\n    <g id=\"ytick_7\">\r\n     <g id=\"line2d_16\">\r\n      <g>\r\n       <use style=\"stroke:#000000;stroke-width:0.8;\" x=\"28.942188\" xlink:href=\"#mc979886f8d\" y=\"65.359219\"/>\r\n      </g>\r\n     </g>\r\n     <g id=\"text_16\">\r\n      <!-- 2 -->\r\n      <g transform=\"translate(15.579688 69.158437)scale(0.1 -0.1)\">\r\n       <use xlink:href=\"#DejaVuSans-50\"/>\r\n      </g>\r\n     </g>\r\n    </g>\r\n    <g id=\"ytick_8\">\r\n     <g id=\"line2d_17\">\r\n      <g>\r\n       <use style=\"stroke:#000000;stroke-width:0.8;\" x=\"28.942188\" xlink:href=\"#mc979886f8d\" y=\"38.179219\"/>\r\n      </g>\r\n     </g>\r\n     <g id=\"text_17\">\r\n      <!-- 3 -->\r\n      <g transform=\"translate(15.579688 41.978437)scale(0.1 -0.1)\">\r\n       <use xlink:href=\"#DejaVuSans-51\"/>\r\n      </g>\r\n     </g>\r\n    </g>\r\n    <g id=\"ytick_9\">\r\n     <g id=\"line2d_18\">\r\n      <g>\r\n       <use style=\"stroke:#000000;stroke-width:0.8;\" x=\"28.942188\" xlink:href=\"#mc979886f8d\" y=\"10.999219\"/>\r\n      </g>\r\n     </g>\r\n     <g id=\"text_18\">\r\n      <!-- 4 -->\r\n      <g transform=\"translate(15.579688 14.798437)scale(0.1 -0.1)\">\r\n       <use xlink:href=\"#DejaVuSans-52\"/>\r\n      </g>\r\n     </g>\r\n    </g>\r\n   </g>\r\n   <g id=\"LineCollection_1\">\r\n    <path clip-path=\"url(#p04a2066136)\" d=\"M 28.942188 69.612617 \r\nL 49.233097 69.042232 \r\nL 69.524006 68.684594 \r\nL 89.814915 68.545344 \r\nL 106.724006 68.629388 \r\nL 120.251278 68.868566 \r\nL 133.778551 69.316455 \r\nL 143.924006 69.839154 \r\nL 160.833097 71.047407 \r\nL 167.596733 71.711219 \r\nL 177.742188 72.960476 \r\nL 184.505824 73.972142 \r\nL 194.651278 75.887739 \r\nL 201.414915 77.512143 \r\nL 208.178551 79.502208 \r\nL 213.093831 81.282855 \r\nL 214.942188 81.98547 \r\nL 218.324006 83.502548 \r\nL 222.469978 85.675582 \r\nL 225.97087 87.871946 \r\nL 228.894209 90.06831 \r\nL 231.851278 92.801356 \r\nL 233.3546 94.461037 \r\nL 235.233097 96.958083 \r\nL 236.426262 98.853764 \r\nL 237.550747 101.050128 \r\nL 238.614915 103.799452 \r\nL 239.142497 105.442855 \r\nL 239.666558 107.639219 \r\nL 240.026446 109.835582 \r\nL 240.240263 112.031946 \r\nL 240.323175 114.22831 \r\nL 240.14422 118.621037 \r\nL 239.563828 123.013764 \r\nL 238.614915 127.452215 \r\nL 237.4627 131.799219 \r\nL 236.017855 136.191946 \r\nL 233.477561 142.781037 \r\nL 230.530835 149.370128 \r\nL 227.256733 155.959219 \r\nL 223.708994 162.54831 \r\nL 219.925501 169.137401 \r\nL 213.181789 180.119219 \r\nL 204.796733 192.921104 \r\nL 204.496623 193.297401 \r\nL 198.033097 202.76444 \r\nL 195.33829 206.475582 \r\nL 194.651278 207.574142 \r\nL 193.770751 208.671946 \r\nL 184.505824 221.479271 \r\nL 184.156277 221.850128 \r\nL 179.231629 228.439219 \r\nL 179.231629 228.439219 \r\n\" style=\"fill:none;stroke:#440154;stroke-width:1.5;\"/>\r\n   </g>\r\n   <g id=\"patch_3\">\r\n    <path d=\"M 28.942188 228.439219 \r\nL 28.942188 10.999219 \r\n\" style=\"fill:none;stroke:#000000;stroke-linecap:square;stroke-linejoin:miter;stroke-width:0.8;\"/>\r\n   </g>\r\n   <g id=\"patch_4\">\r\n    <path d=\"M 363.742188 228.439219 \r\nL 363.742188 10.999219 \r\n\" style=\"fill:none;stroke:#000000;stroke-linecap:square;stroke-linejoin:miter;stroke-width:0.8;\"/>\r\n   </g>\r\n   <g id=\"patch_5\">\r\n    <path d=\"M 28.942188 228.439219 \r\nL 363.742188 228.439219 \r\n\" style=\"fill:none;stroke:#000000;stroke-linecap:square;stroke-linejoin:miter;stroke-width:0.8;\"/>\r\n   </g>\r\n   <g id=\"patch_6\">\r\n    <path d=\"M 28.942188 10.999219 \r\nL 363.742188 10.999219 \r\n\" style=\"fill:none;stroke:#000000;stroke-linecap:square;stroke-linejoin:miter;stroke-width:0.8;\"/>\r\n   </g>\r\n  </g>\r\n </g>\r\n <defs>\r\n  <clipPath id=\"p04a2066136\">\r\n   <rect height=\"217.44\" width=\"334.8\" x=\"28.942188\" y=\"10.999219\"/>\r\n  </clipPath>\r\n </defs>\r\n</svg>\r\n",
      "image/png": "[encoded data removed]"
     },
     "metadata": {
      "needs_background": "light"
     }
    }
   ],
   "metadata": {}
  },
  {
   "cell_type": "code",
   "execution_count": 16,
   "source": [
    "test = pd.read_csv('R:/IISc/Sem 2/PRNN/Assignments/assignment-1-data-sets/P1a_test_data_2D.txt', header=None)"
   ],
   "outputs": [],
   "metadata": {}
  },
  {
   "cell_type": "code",
   "execution_count": 17,
   "source": [
    "test = test.rename(columns={D: \"y\"})\r\n",
    "test.head()"
   ],
   "outputs": [
    {
     "output_type": "execute_result",
     "data": {
      "text/plain": [
       "        0       1  y\n",
       "0  0.0590  0.4532  1\n",
       "1 -1.2340 -0.1377  1\n",
       "2  1.1535  1.1037  1\n",
       "3 -0.6642  1.4021  1\n",
       "4  0.8231 -0.6175  1"
      ],
      "text/html": [
       "<div>\n",
       "<style scoped>\n",
       "    .dataframe tbody tr th:only-of-type {\n",
       "        vertical-align: middle;\n",
       "    }\n",
       "\n",
       "    .dataframe tbody tr th {\n",
       "        vertical-align: top;\n",
       "    }\n",
       "\n",
       "    .dataframe thead th {\n",
       "        text-align: right;\n",
       "    }\n",
       "</style>\n",
       "<table border=\"1\" class=\"dataframe\">\n",
       "  <thead>\n",
       "    <tr style=\"text-align: right;\">\n",
       "      <th></th>\n",
       "      <th>0</th>\n",
       "      <th>1</th>\n",
       "      <th>y</th>\n",
       "    </tr>\n",
       "  </thead>\n",
       "  <tbody>\n",
       "    <tr>\n",
       "      <th>0</th>\n",
       "      <td>0.0590</td>\n",
       "      <td>0.4532</td>\n",
       "      <td>1</td>\n",
       "    </tr>\n",
       "    <tr>\n",
       "      <th>1</th>\n",
       "      <td>-1.2340</td>\n",
       "      <td>-0.1377</td>\n",
       "      <td>1</td>\n",
       "    </tr>\n",
       "    <tr>\n",
       "      <th>2</th>\n",
       "      <td>1.1535</td>\n",
       "      <td>1.1037</td>\n",
       "      <td>1</td>\n",
       "    </tr>\n",
       "    <tr>\n",
       "      <th>3</th>\n",
       "      <td>-0.6642</td>\n",
       "      <td>1.4021</td>\n",
       "      <td>1</td>\n",
       "    </tr>\n",
       "    <tr>\n",
       "      <th>4</th>\n",
       "      <td>0.8231</td>\n",
       "      <td>-0.6175</td>\n",
       "      <td>1</td>\n",
       "    </tr>\n",
       "  </tbody>\n",
       "</table>\n",
       "</div>"
      ]
     },
     "metadata": {},
     "execution_count": 17
    }
   ],
   "metadata": {}
  },
  {
   "cell_type": "markdown",
   "source": [
    "Bayes Classifier on Test Set"
   ],
   "metadata": {}
  },
  {
   "cell_type": "code",
   "execution_count": 18,
   "source": [
    "test['posterior_0'] = test.apply(lambda row: p0 * gaussian_prob(np.array(row[0:D]), mu0, sigma0, D), axis=1)\r\n",
    "# test['posterior_0'] = test.apply(lambda row: p0 * exponential_prob(np.array(row[0:D]), mu0, D), axis=1)\r\n",
    "test['posterior_1'] = test.apply(lambda row: p1 * gaussian_prob(np.array(row[0:D]), mu1, sigma1, D), axis=1)\r\n",
    "test['predicted'] = test.apply(lambda row: prediction(row.posterior_0, row.posterior_1), axis=1)"
   ],
   "outputs": [],
   "metadata": {}
  },
  {
   "cell_type": "code",
   "execution_count": 19,
   "source": [
    "total = len(test.index)\r\n",
    "y = test.iloc[:, [D]]\r\n",
    "y_pred = test.iloc[:, [-1]]"
   ],
   "outputs": [],
   "metadata": {}
  },
  {
   "cell_type": "code",
   "execution_count": 20,
   "source": [
    "predictions_test = np.array(y_pred) == np.array(y)"
   ],
   "outputs": [],
   "metadata": {}
  },
  {
   "cell_type": "code",
   "execution_count": 21,
   "source": [
    "true_count = (predictions_test[:, 0] == True).sum()\r\n",
    "false_count = (predictions_test[:, 0] == False).sum()\r\n",
    "accuracy = true_count/(total) * 100\r\n",
    "print(true_count, false_count)\r\n",
    "print('Accuracy = ' + str(accuracy) + '%')"
   ],
   "outputs": [
    {
     "output_type": "stream",
     "name": "stdout",
     "text": [
      "153 47\n",
      "Accuracy = 76.5%\n"
     ]
    }
   ],
   "metadata": {}
  },
  {
   "cell_type": "code",
   "execution_count": 22,
   "source": [
    "x0 = test[test['y'] == -1][0]\r\n",
    "y0 = test[test['y'] == -1][1]\r\n",
    "plt.scatter(x0, y0)\r\n",
    "x1 = test[test['y'] == 1][0]\r\n",
    "y1 = test[test['y'] == 1][1]\r\n",
    "plt.scatter(x1, y1)\r\n",
    "\r\n",
    "X, Y = np.mgrid[-4:4:100j, -4:4:100j]\r\n",
    "x = X.ravel()\r\n",
    "y = Y.ravel()\r\n",
    "p = (mnorm(mu1.T[0], sigma1).pdf(np.column_stack((x, y))) - mnorm(mu0.T[0], sigma0).pdf(np.column_stack((x, y)))).reshape(X.shape)\r\n",
    "plt.contour(X, Y, p, levels = [0])"
   ],
   "outputs": [
    {
     "output_type": "execute_result",
     "data": {
      "text/plain": [
       "<matplotlib.contour.QuadContourSet at 0x197c1842e50>"
      ]
     },
     "metadata": {},
     "execution_count": 22
    },
    {
     "output_type": "display_data",
     "data": {
      "text/plain": [
       "<Figure size 432x288 with 1 Axes>"
      ],
      "image/svg+xml": "<?xml version=\"1.0\" encoding=\"utf-8\" standalone=\"no\"?>\r\n<!DOCTYPE svg PUBLIC \"-//W3C//DTD SVG 1.1//EN\"\r\n  \"http://www.w3.org/Graphics/SVG/1.1/DTD/svg11.dtd\">\r\n<!-- Created with matplotlib (https://matplotlib.org/) -->\r\n<svg height=\"248.518125pt\" version=\"1.1\" viewBox=\"0 0 374.123437 248.518125\" width=\"374.123437pt\" xmlns=\"http://www.w3.org/2000/svg\" xmlns:xlink=\"http://www.w3.org/1999/xlink\">\r\n <metadata>\r\n  <rdf:RDF xmlns:cc=\"http://creativecommons.org/ns#\" xmlns:dc=\"http://purl.org/dc/elements/1.1/\" xmlns:rdf=\"http://www.w3.org/1999/02/22-rdf-syntax-ns#\">\r\n   <cc:Work>\r\n    <dc:type rdf:resource=\"http://purl.org/dc/dcmitype/StillImage\"/>\r\n    <dc:date>2021-08-13T00:43:03.759829</dc:date>\r\n    <dc:format>image/svg+xml</dc:format>\r\n    <dc:creator>\r\n     <cc:Agent>\r\n      <dc:title>Matplotlib v3.3.2, https://matplotlib.org/</dc:title>\r\n     </cc:Agent>\r\n    </dc:creator>\r\n   </cc:Work>\r\n  </rdf:RDF>\r\n </metadata>\r\n <defs>\r\n  <style type=\"text/css\">*{stroke-linecap:butt;stroke-linejoin:round;}</style>\r\n </defs>\r\n <g id=\"figure_1\">\r\n  <g id=\"patch_1\">\r\n   <path d=\"M 0 248.518125 \r\nL 374.123437 248.518125 \r\nL 374.123437 0 \r\nL 0 0 \r\nz\r\n\" style=\"fill:none;\"/>\r\n  </g>\r\n  <g id=\"axes_1\">\r\n   <g id=\"patch_2\">\r\n    <path d=\"M 28.942188 224.64 \r\nL 363.742188 224.64 \r\nL 363.742188 7.2 \r\nL 28.942188 7.2 \r\nz\r\n\" style=\"fill:#ffffff;\"/>\r\n   </g>\r\n   <g id=\"PathCollection_1\">\r\n    <defs>\r\n     <path d=\"M 0 3 \r\nC 0.795609 3 1.55874 2.683901 2.12132 2.12132 \r\nC 2.683901 1.55874 3 0.795609 3 0 \r\nC 3 -0.795609 2.683901 -1.55874 2.12132 -2.12132 \r\nC 1.55874 -2.683901 0.795609 -3 0 -3 \r\nC -0.795609 -3 -1.55874 -2.683901 -2.12132 -2.12132 \r\nC -2.683901 -1.55874 -3 -0.795609 -3 0 \r\nC -3 0.795609 -2.683901 1.55874 -2.12132 2.12132 \r\nC -1.55874 2.683901 -0.795609 3 0 3 \r\nz\r\n\" id=\"ma21147f7de\" style=\"stroke:#1f77b4;\"/>\r\n    </defs>\r\n    <g clip-path=\"url(#p2641bc4d88)\">\r\n     <use style=\"fill:#1f77b4;stroke:#1f77b4;\" x=\"194.609598\" xlink:href=\"#ma21147f7de\" y=\"58.098484\"/>\r\n     <use style=\"fill:#1f77b4;stroke:#1f77b4;\" x=\"173.998473\" xlink:href=\"#ma21147f7de\" y=\"92.474832\"/>\r\n     <use style=\"fill:#1f77b4;stroke:#1f77b4;\" x=\"244.017708\" xlink:href=\"#ma21147f7de\" y=\"127.228025\"/>\r\n     <use style=\"fill:#1f77b4;stroke:#1f77b4;\" x=\"210.596298\" xlink:href=\"#ma21147f7de\" y=\"88.69923\"/>\r\n     <use style=\"fill:#1f77b4;stroke:#1f77b4;\" x=\"193.408503\" xlink:href=\"#ma21147f7de\" y=\"125.405814\"/>\r\n     <use style=\"fill:#1f77b4;stroke:#1f77b4;\" x=\"260.330838\" xlink:href=\"#ma21147f7de\" y=\"182.929491\"/>\r\n     <use style=\"fill:#1f77b4;stroke:#1f77b4;\" x=\"314.940902\" xlink:href=\"#ma21147f7de\" y=\"117.928547\"/>\r\n     <use style=\"fill:#1f77b4;stroke:#1f77b4;\" x=\"310.228592\" xlink:href=\"#ma21147f7de\" y=\"17.554286\"/>\r\n     <use style=\"fill:#1f77b4;stroke:#1f77b4;\" x=\"229.545978\" xlink:href=\"#ma21147f7de\" y=\"101.805317\"/>\r\n     <use style=\"fill:#1f77b4;stroke:#1f77b4;\" x=\"169.528893\" xlink:href=\"#ma21147f7de\" y=\"107.360199\"/>\r\n     <use style=\"fill:#1f77b4;stroke:#1f77b4;\" x=\"268.474848\" xlink:href=\"#ma21147f7de\" y=\"62.079205\"/>\r\n     <use style=\"fill:#1f77b4;stroke:#1f77b4;\" x=\"196.584918\" xlink:href=\"#ma21147f7de\" y=\"65.535205\"/>\r\n     <use style=\"fill:#1f77b4;stroke:#1f77b4;\" x=\"161.941488\" xlink:href=\"#ma21147f7de\" y=\"157.237267\"/>\r\n     <use style=\"fill:#1f77b4;stroke:#1f77b4;\" x=\"237.346818\" xlink:href=\"#ma21147f7de\" y=\"52.255006\"/>\r\n     <use style=\"fill:#1f77b4;stroke:#1f77b4;\" x=\"249.893448\" xlink:href=\"#ma21147f7de\" y=\"116.096795\"/>\r\n     <use style=\"fill:#1f77b4;stroke:#1f77b4;\" x=\"212.031753\" xlink:href=\"#ma21147f7de\" y=\"105.006112\"/>\r\n     <use style=\"fill:#1f77b4;stroke:#1f77b4;\" x=\"300.661683\" xlink:href=\"#ma21147f7de\" y=\"98.43518\"/>\r\n     <use style=\"fill:#1f77b4;stroke:#1f77b4;\" x=\"202.184448\" xlink:href=\"#ma21147f7de\" y=\"167.147329\"/>\r\n     <use style=\"fill:#1f77b4;stroke:#1f77b4;\" x=\"273.584733\" xlink:href=\"#ma21147f7de\" y=\"34.285714\"/>\r\n     <use style=\"fill:#1f77b4;stroke:#1f77b4;\" x=\"253.429773\" xlink:href=\"#ma21147f7de\" y=\"93.924969\"/>\r\n     <use style=\"fill:#1f77b4;stroke:#1f77b4;\" x=\"267.051948\" xlink:href=\"#ma21147f7de\" y=\"93.662609\"/>\r\n     <use style=\"fill:#1f77b4;stroke:#1f77b4;\" x=\"297.171393\" xlink:href=\"#ma21147f7de\" y=\"48.450783\"/>\r\n     <use style=\"fill:#1f77b4;stroke:#1f77b4;\" x=\"177.538983\" xlink:href=\"#ma21147f7de\" y=\"72.05605\"/>\r\n     <use style=\"fill:#1f77b4;stroke:#1f77b4;\" x=\"260.619603\" xlink:href=\"#ma21147f7de\" y=\"121.825789\"/>\r\n     <use style=\"fill:#1f77b4;stroke:#1f77b4;\" x=\"270.086073\" xlink:href=\"#ma21147f7de\" y=\"72.32795\"/>\r\n     <use style=\"fill:#1f77b4;stroke:#1f77b4;\" x=\"285.545463\" xlink:href=\"#ma21147f7de\" y=\"173.839901\"/>\r\n     <use style=\"fill:#1f77b4;stroke:#1f77b4;\" x=\"257.928648\" xlink:href=\"#ma21147f7de\" y=\"139.349068\"/>\r\n     <use style=\"fill:#1f77b4;stroke:#1f77b4;\" x=\"283.724987\" xlink:href=\"#ma21147f7de\" y=\"101.228124\"/>\r\n     <use style=\"fill:#1f77b4;stroke:#1f77b4;\" x=\"325.897233\" xlink:href=\"#ma21147f7de\" y=\"112.919851\"/>\r\n     <use style=\"fill:#1f77b4;stroke:#1f77b4;\" x=\"264.637203\" xlink:href=\"#ma21147f7de\" y=\"147.427379\"/>\r\n     <use style=\"fill:#1f77b4;stroke:#1f77b4;\" x=\"208.989258\" xlink:href=\"#ma21147f7de\" y=\"73.181814\"/>\r\n     <use style=\"fill:#1f77b4;stroke:#1f77b4;\" x=\"273.957198\" xlink:href=\"#ma21147f7de\" y=\"125.541764\"/>\r\n     <use style=\"fill:#1f77b4;stroke:#1f77b4;\" x=\"243.327183\" xlink:href=\"#ma21147f7de\" y=\"93.82241\"/>\r\n     <use style=\"fill:#1f77b4;stroke:#1f77b4;\" x=\"221.381043\" xlink:href=\"#ma21147f7de\" y=\"154.446708\"/>\r\n     <use style=\"fill:#1f77b4;stroke:#1f77b4;\" x=\"174.684813\" xlink:href=\"#ma21147f7de\" y=\"166.577292\"/>\r\n     <use style=\"fill:#1f77b4;stroke:#1f77b4;\" x=\"259.640313\" xlink:href=\"#ma21147f7de\" y=\"158.188919\"/>\r\n     <use style=\"fill:#1f77b4;stroke:#1f77b4;\" x=\"291.827148\" xlink:href=\"#ma21147f7de\" y=\"87.757118\"/>\r\n     <use style=\"fill:#1f77b4;stroke:#1f77b4;\" x=\"245.800518\" xlink:href=\"#ma21147f7de\" y=\"91.65436\"/>\r\n     <use style=\"fill:#1f77b4;stroke:#1f77b4;\" x=\"242.339523\" xlink:href=\"#ma21147f7de\" y=\"114.279354\"/>\r\n     <use style=\"fill:#1f77b4;stroke:#1f77b4;\" x=\"254.388138\" xlink:href=\"#ma21147f7de\" y=\"115.355031\"/>\r\n     <use style=\"fill:#1f77b4;stroke:#1f77b4;\" x=\"317.184063\" xlink:href=\"#ma21147f7de\" y=\"140.162385\"/>\r\n     <use style=\"fill:#1f77b4;stroke:#1f77b4;\" x=\"131.554203\" xlink:href=\"#ma21147f7de\" y=\"33.188571\"/>\r\n     <use style=\"fill:#1f77b4;stroke:#1f77b4;\" x=\"284.281593\" xlink:href=\"#ma21147f7de\" y=\"71.831851\"/>\r\n     <use style=\"fill:#1f77b4;stroke:#1f77b4;\" x=\"244.168368\" xlink:href=\"#ma21147f7de\" y=\"86.91518\"/>\r\n     <use style=\"fill:#1f77b4;stroke:#1f77b4;\" x=\"154.174128\" xlink:href=\"#ma21147f7de\" y=\"125.780273\"/>\r\n     <use style=\"fill:#1f77b4;stroke:#1f77b4;\" x=\"226.633218\" xlink:href=\"#ma21147f7de\" y=\"90.795727\"/>\r\n     <use style=\"fill:#1f77b4;stroke:#1f77b4;\" x=\"265.386318\" xlink:href=\"#ma21147f7de\" y=\"180.823453\"/>\r\n     <use style=\"fill:#1f77b4;stroke:#1f77b4;\" x=\"261.054843\" xlink:href=\"#ma21147f7de\" y=\"125.31041\"/>\r\n     <use style=\"fill:#1f77b4;stroke:#1f77b4;\" x=\"256.292313\" xlink:href=\"#ma21147f7de\" y=\"102.306186\"/>\r\n     <use style=\"fill:#1f77b4;stroke:#1f77b4;\" x=\"245.327613\" xlink:href=\"#ma21147f7de\" y=\"150.251329\"/>\r\n     <use style=\"fill:#1f77b4;stroke:#1f77b4;\" x=\"257.079093\" xlink:href=\"#ma21147f7de\" y=\"95.425193\"/>\r\n     <use style=\"fill:#1f77b4;stroke:#1f77b4;\" x=\"237.886683\" xlink:href=\"#ma21147f7de\" y=\"98.280149\"/>\r\n     <use style=\"fill:#1f77b4;stroke:#1f77b4;\" x=\"137.032368\" xlink:href=\"#ma21147f7de\" y=\"36.026832\"/>\r\n     <use style=\"fill:#1f77b4;stroke:#1f77b4;\" x=\"198.129183\" xlink:href=\"#ma21147f7de\" y=\"90.466584\"/>\r\n     <use style=\"fill:#1f77b4;stroke:#1f77b4;\" x=\"267.981018\" xlink:href=\"#ma21147f7de\" y=\"104.05923\"/>\r\n     <use style=\"fill:#1f77b4;stroke:#1f77b4;\" x=\"249.223848\" xlink:href=\"#ma21147f7de\" y=\"138.364025\"/>\r\n     <use style=\"fill:#1f77b4;stroke:#1f77b4;\" x=\"208.143888\" xlink:href=\"#ma21147f7de\" y=\"57.20646\"/>\r\n     <use style=\"fill:#1f77b4;stroke:#1f77b4;\" x=\"259.640313\" xlink:href=\"#ma21147f7de\" y=\"104.261963\"/>\r\n     <use style=\"fill:#1f77b4;stroke:#1f77b4;\" x=\"194.576118\" xlink:href=\"#ma21147f7de\" y=\"51.284273\"/>\r\n     <use style=\"fill:#1f77b4;stroke:#1f77b4;\" x=\"257.585478\" xlink:href=\"#ma21147f7de\" y=\"102.549466\"/>\r\n     <use style=\"fill:#1f77b4;stroke:#1f77b4;\" x=\"273.224823\" xlink:href=\"#ma21147f7de\" y=\"76.072547\"/>\r\n     <use style=\"fill:#1f77b4;stroke:#1f77b4;\" x=\"290.680458\" xlink:href=\"#ma21147f7de\" y=\"111.531727\"/>\r\n     <use style=\"fill:#1f77b4;stroke:#1f77b4;\" x=\"313.216683\" xlink:href=\"#ma21147f7de\" y=\"92.694261\"/>\r\n     <use style=\"fill:#1f77b4;stroke:#1f77b4;\" x=\"236.915763\" xlink:href=\"#ma21147f7de\" y=\"150.165466\"/>\r\n     <use style=\"fill:#1f77b4;stroke:#1f77b4;\" x=\"221.326638\" xlink:href=\"#ma21147f7de\" y=\"123.853118\"/>\r\n     <use style=\"fill:#1f77b4;stroke:#1f77b4;\" x=\"175.680843\" xlink:href=\"#ma21147f7de\" y=\"142.888547\"/>\r\n     <use style=\"fill:#1f77b4;stroke:#1f77b4;\" x=\"173.529753\" xlink:href=\"#ma21147f7de\" y=\"161.408795\"/>\r\n     <use style=\"fill:#1f77b4;stroke:#1f77b4;\" x=\"190.294863\" xlink:href=\"#ma21147f7de\" y=\"120.432894\"/>\r\n     <use style=\"fill:#1f77b4;stroke:#1f77b4;\" x=\"242.004723\" xlink:href=\"#ma21147f7de\" y=\"45.57436\"/>\r\n     <use style=\"fill:#1f77b4;stroke:#1f77b4;\" x=\"208.248513\" xlink:href=\"#ma21147f7de\" y=\"124.854857\"/>\r\n     <use style=\"fill:#1f77b4;stroke:#1f77b4;\" x=\"258.100233\" xlink:href=\"#ma21147f7de\" y=\"91.000845\"/>\r\n     <use style=\"fill:#1f77b4;stroke:#1f77b4;\" x=\"254.070078\" xlink:href=\"#ma21147f7de\" y=\"47.735255\"/>\r\n     <use style=\"fill:#1f77b4;stroke:#1f77b4;\" x=\"213.739233\" xlink:href=\"#ma21147f7de\" y=\"69.561242\"/>\r\n     <use style=\"fill:#1f77b4;stroke:#1f77b4;\" x=\"301.628418\" xlink:href=\"#ma21147f7de\" y=\"97.376199\"/>\r\n     <use style=\"fill:#1f77b4;stroke:#1f77b4;\" x=\"178.873998\" xlink:href=\"#ma21147f7de\" y=\"81.708522\"/>\r\n     <use style=\"fill:#1f77b4;stroke:#1f77b4;\" x=\"250.044108\" xlink:href=\"#ma21147f7de\" y=\"43.418236\"/>\r\n     <use style=\"fill:#1f77b4;stroke:#1f77b4;\" x=\"201.740838\" xlink:href=\"#ma21147f7de\" y=\"160.154236\"/>\r\n     <use style=\"fill:#1f77b4;stroke:#1f77b4;\" x=\"218.531058\" xlink:href=\"#ma21147f7de\" y=\"113.189366\"/>\r\n     <use style=\"fill:#1f77b4;stroke:#1f77b4;\" x=\"161.866158\" xlink:href=\"#ma21147f7de\" y=\"75.211528\"/>\r\n     <use style=\"fill:#1f77b4;stroke:#1f77b4;\" x=\"197.438658\" xlink:href=\"#ma21147f7de\" y=\"57.192149\"/>\r\n     <use style=\"fill:#1f77b4;stroke:#1f77b4;\" x=\"282.494598\" xlink:href=\"#ma21147f7de\" y=\"56.278658\"/>\r\n     <use style=\"fill:#1f77b4;stroke:#1f77b4;\" x=\"258.832608\" xlink:href=\"#ma21147f7de\" y=\"51.902012\"/>\r\n     <use style=\"fill:#1f77b4;stroke:#1f77b4;\" x=\"268.236303\" xlink:href=\"#ma21147f7de\" y=\"117.456298\"/>\r\n     <use style=\"fill:#1f77b4;stroke:#1f77b4;\" x=\"265.629048\" xlink:href=\"#ma21147f7de\" y=\"92.236323\"/>\r\n     <use style=\"fill:#1f77b4;stroke:#1f77b4;\" x=\"239.430948\" xlink:href=\"#ma21147f7de\" y=\"80.041342\"/>\r\n     <use style=\"fill:#1f77b4;stroke:#1f77b4;\" x=\"186.365148\" xlink:href=\"#ma21147f7de\" y=\"164.891031\"/>\r\n     <use style=\"fill:#1f77b4;stroke:#1f77b4;\" x=\"274.149708\" xlink:href=\"#ma21147f7de\" y=\"146.986137\"/>\r\n     <use style=\"fill:#1f77b4;stroke:#1f77b4;\" x=\"280.343508\" xlink:href=\"#ma21147f7de\" y=\"131.220671\"/>\r\n     <use style=\"fill:#1f77b4;stroke:#1f77b4;\" x=\"164.912838\" xlink:href=\"#ma21147f7de\" y=\"128.661466\"/>\r\n     <use style=\"fill:#1f77b4;stroke:#1f77b4;\" x=\"193.642863\" xlink:href=\"#ma21147f7de\" y=\"74.887155\"/>\r\n     <use style=\"fill:#1f77b4;stroke:#1f77b4;\" x=\"168.013923\" xlink:href=\"#ma21147f7de\" y=\"115.696099\"/>\r\n     <use style=\"fill:#1f77b4;stroke:#1f77b4;\" x=\"358.921068\" xlink:href=\"#ma21147f7de\" y=\"98.213366\"/>\r\n     <use style=\"fill:#1f77b4;stroke:#1f77b4;\" x=\"228.868008\" xlink:href=\"#ma21147f7de\" y=\"117.580323\"/>\r\n     <use style=\"fill:#1f77b4;stroke:#1f77b4;\" x=\"156.605613\" xlink:href=\"#ma21147f7de\" y=\"89.491081\"/>\r\n     <use style=\"fill:#1f77b4;stroke:#1f77b4;\" x=\"194.781183\" xlink:href=\"#ma21147f7de\" y=\"156.547975\"/>\r\n     <use style=\"fill:#1f77b4;stroke:#1f77b4;\" x=\"237.777873\" xlink:href=\"#ma21147f7de\" y=\"86.323677\"/>\r\n     <use style=\"fill:#1f77b4;stroke:#1f77b4;\" x=\"327.403833\" xlink:href=\"#ma21147f7de\" y=\"163.812969\"/>\r\n     <use style=\"fill:#1f77b4;stroke:#1f77b4;\" x=\"327.579603\" xlink:href=\"#ma21147f7de\" y=\"96.407851\"/>\r\n     <use style=\"fill:#1f77b4;stroke:#1f77b4;\" x=\"263.189192\" xlink:href=\"#ma21147f7de\" y=\"70.124124\"/>\r\n     <use style=\"fill:#1f77b4;stroke:#1f77b4;\" x=\"212.847828\" xlink:href=\"#ma21147f7de\" y=\"188.894609\"/>\r\n    </g>\r\n   </g>\r\n   <g id=\"PathCollection_2\">\r\n    <defs>\r\n     <path d=\"M 0 3 \r\nC 0.795609 3 1.55874 2.683901 2.12132 2.12132 \r\nC 2.683901 1.55874 3 0.795609 3 0 \r\nC 3 -0.795609 2.683901 -1.55874 2.12132 -2.12132 \r\nC 1.55874 -2.683901 0.795609 -3 0 -3 \r\nC -0.795609 -3 -1.55874 -2.683901 -2.12132 -2.12132 \r\nC -2.683901 -1.55874 -3 -0.795609 -3 0 \r\nC -3 0.795609 -2.683901 1.55874 -2.12132 2.12132 \r\nC -1.55874 2.683901 -0.795609 3 0 3 \r\nz\r\n\" id=\"m2b94934715\" style=\"stroke:#ff7f0e;\"/>\r\n    </defs>\r\n    <g clip-path=\"url(#p2641bc4d88)\">\r\n     <use style=\"fill:#ff7f0e;stroke:#ff7f0e;\" x=\"198.811338\" xlink:href=\"#m2b94934715\" y=\"118.427031\"/>\r\n     <use style=\"fill:#ff7f0e;stroke:#ff7f0e;\" x=\"144.699288\" xlink:href=\"#m2b94934715\" y=\"132.520547\"/>\r\n     <use style=\"fill:#ff7f0e;stroke:#ff7f0e;\" x=\"244.616163\" xlink:href=\"#m2b94934715\" y=\"102.912\"/>\r\n     <use style=\"fill:#ff7f0e;stroke:#ff7f0e;\" x=\"168.545418\" xlink:href=\"#m2b94934715\" y=\"95.794882\"/>\r\n     <use style=\"fill:#ff7f0e;stroke:#ff7f0e;\" x=\"230.788923\" xlink:href=\"#m2b94934715\" y=\"143.964224\"/>\r\n     <use style=\"fill:#ff7f0e;stroke:#ff7f0e;\" x=\"181.225968\" xlink:href=\"#m2b94934715\" y=\"146.134658\"/>\r\n     <use style=\"fill:#ff7f0e;stroke:#ff7f0e;\" x=\"190.043763\" xlink:href=\"#m2b94934715\" y=\"127.98887\"/>\r\n     <use style=\"fill:#ff7f0e;stroke:#ff7f0e;\" x=\"147.729228\" xlink:href=\"#m2b94934715\" y=\"165.685267\"/>\r\n     <use style=\"fill:#ff7f0e;stroke:#ff7f0e;\" x=\"210.370308\" xlink:href=\"#m2b94934715\" y=\"109.809689\"/>\r\n     <use style=\"fill:#ff7f0e;stroke:#ff7f0e;\" x=\"241.360233\" xlink:href=\"#m2b94934715\" y=\"122.35528\"/>\r\n     <use style=\"fill:#ff7f0e;stroke:#ff7f0e;\" x=\"186.963603\" xlink:href=\"#m2b94934715\" y=\"135.148919\"/>\r\n     <use style=\"fill:#ff7f0e;stroke:#ff7f0e;\" x=\"157.928073\" xlink:href=\"#m2b94934715\" y=\"107.603478\"/>\r\n     <use style=\"fill:#ff7f0e;stroke:#ff7f0e;\" x=\"173.659488\" xlink:href=\"#m2b94934715\" y=\"123.104199\"/>\r\n     <use style=\"fill:#ff7f0e;stroke:#ff7f0e;\" x=\"202.774533\" xlink:href=\"#m2b94934715\" y=\"149.039702\"/>\r\n     <use style=\"fill:#ff7f0e;stroke:#ff7f0e;\" x=\"204.109548\" xlink:href=\"#m2b94934715\" y=\"120.998161\"/>\r\n     <use style=\"fill:#ff7f0e;stroke:#ff7f0e;\" x=\"167.448948\" xlink:href=\"#m2b94934715\" y=\"148.712944\"/>\r\n     <use style=\"fill:#ff7f0e;stroke:#ff7f0e;\" x=\"276.020403\" xlink:href=\"#m2b94934715\" y=\"115.822509\"/>\r\n     <use style=\"fill:#ff7f0e;stroke:#ff7f0e;\" x=\"275.484723\" xlink:href=\"#m2b94934715\" y=\"93.18082\"/>\r\n     <use style=\"fill:#ff7f0e;stroke:#ff7f0e;\" x=\"118.049208\" xlink:href=\"#m2b94934715\" y=\"147.281888\"/>\r\n     <use style=\"fill:#ff7f0e;stroke:#ff7f0e;\" x=\"264.444693\" xlink:href=\"#m2b94934715\" y=\"145.848447\"/>\r\n     <use style=\"fill:#ff7f0e;stroke:#ff7f0e;\" x=\"198.183588\" xlink:href=\"#m2b94934715\" y=\"137.090385\"/>\r\n     <use style=\"fill:#ff7f0e;stroke:#ff7f0e;\" x=\"184.218243\" xlink:href=\"#m2b94934715\" y=\"113.866733\"/>\r\n     <use style=\"fill:#ff7f0e;stroke:#ff7f0e;\" x=\"150.265338\" xlink:href=\"#m2b94934715\" y=\"170.12154\"/>\r\n     <use style=\"fill:#ff7f0e;stroke:#ff7f0e;\" x=\"251.069433\" xlink:href=\"#m2b94934715\" y=\"161.093963\"/>\r\n     <use style=\"fill:#ff7f0e;stroke:#ff7f0e;\" x=\"116.856483\" xlink:href=\"#m2b94934715\" y=\"159.624745\"/>\r\n     <use style=\"fill:#ff7f0e;stroke:#ff7f0e;\" x=\"147.017778\" xlink:href=\"#m2b94934715\" y=\"135.17754\"/>\r\n     <use style=\"fill:#ff7f0e;stroke:#ff7f0e;\" x=\"200.958243\" xlink:href=\"#m2b94934715\" y=\"119.903404\"/>\r\n     <use style=\"fill:#ff7f0e;stroke:#ff7f0e;\" x=\"212.860383\" xlink:href=\"#m2b94934715\" y=\"107.939776\"/>\r\n     <use style=\"fill:#ff7f0e;stroke:#ff7f0e;\" x=\"185.009208\" xlink:href=\"#m2b94934715\" y=\"113.101118\"/>\r\n     <use style=\"fill:#ff7f0e;stroke:#ff7f0e;\" x=\"220.631928\" xlink:href=\"#m2b94934715\" y=\"150.282335\"/>\r\n     <use style=\"fill:#ff7f0e;stroke:#ff7f0e;\" x=\"207.172968\" xlink:href=\"#m2b94934715\" y=\"119.073391\"/>\r\n     <use style=\"fill:#ff7f0e;stroke:#ff7f0e;\" x=\"157.455168\" xlink:href=\"#m2b94934715\" y=\"143.296398\"/>\r\n     <use style=\"fill:#ff7f0e;stroke:#ff7f0e;\" x=\"250.178028\" xlink:href=\"#m2b94934715\" y=\"103.353242\"/>\r\n     <use style=\"fill:#ff7f0e;stroke:#ff7f0e;\" x=\"202.552728\" xlink:href=\"#m2b94934715\" y=\"106.36323\"/>\r\n     <use style=\"fill:#ff7f0e;stroke:#ff7f0e;\" x=\"241.381158\" xlink:href=\"#m2b94934715\" y=\"116.392547\"/>\r\n     <use style=\"fill:#ff7f0e;stroke:#ff7f0e;\" x=\"148.959618\" xlink:href=\"#m2b94934715\" y=\"170.906236\"/>\r\n     <use style=\"fill:#ff7f0e;stroke:#ff7f0e;\" x=\"162.565053\" xlink:href=\"#m2b94934715\" y=\"138.607304\"/>\r\n     <use style=\"fill:#ff7f0e;stroke:#ff7f0e;\" x=\"199.489308\" xlink:href=\"#m2b94934715\" y=\"138.220919\"/>\r\n     <use style=\"fill:#ff7f0e;stroke:#ff7f0e;\" x=\"227.984973\" xlink:href=\"#m2b94934715\" y=\"126.304994\"/>\r\n     <use style=\"fill:#ff7f0e;stroke:#ff7f0e;\" x=\"168.620748\" xlink:href=\"#m2b94934715\" y=\"160.998559\"/>\r\n     <use style=\"fill:#ff7f0e;stroke:#ff7f0e;\" x=\"187.871748\" xlink:href=\"#m2b94934715\" y=\"130.30718\"/>\r\n     <use style=\"fill:#ff7f0e;stroke:#ff7f0e;\" x=\"178.978623\" xlink:href=\"#m2b94934715\" y=\"122.765516\"/>\r\n     <use style=\"fill:#ff7f0e;stroke:#ff7f0e;\" x=\"278.464443\" xlink:href=\"#m2b94934715\" y=\"123.564522\"/>\r\n     <use style=\"fill:#ff7f0e;stroke:#ff7f0e;\" x=\"207.482658\" xlink:href=\"#m2b94934715\" y=\"121.463255\"/>\r\n     <use style=\"fill:#ff7f0e;stroke:#ff7f0e;\" x=\"191.776353\" xlink:href=\"#m2b94934715\" y=\"89.887006\"/>\r\n     <use style=\"fill:#ff7f0e;stroke:#ff7f0e;\" x=\"239.129628\" xlink:href=\"#m2b94934715\" y=\"129.958957\"/>\r\n     <use style=\"fill:#ff7f0e;stroke:#ff7f0e;\" x=\"140.715168\" xlink:href=\"#m2b94934715\" y=\"153.423503\"/>\r\n     <use style=\"fill:#ff7f0e;stroke:#ff7f0e;\" x=\"201.899868\" xlink:href=\"#m2b94934715\" y=\"126.321689\"/>\r\n     <use style=\"fill:#ff7f0e;stroke:#ff7f0e;\" x=\"194.232948\" xlink:href=\"#m2b94934715\" y=\"159.86087\"/>\r\n     <use style=\"fill:#ff7f0e;stroke:#ff7f0e;\" x=\"218.752863\" xlink:href=\"#m2b94934715\" y=\"126.643677\"/>\r\n     <use style=\"fill:#ff7f0e;stroke:#ff7f0e;\" x=\"163.167693\" xlink:href=\"#m2b94934715\" y=\"183.759503\"/>\r\n     <use style=\"fill:#ff7f0e;stroke:#ff7f0e;\" x=\"227.290263\" xlink:href=\"#m2b94934715\" y=\"104.913093\"/>\r\n     <use style=\"fill:#ff7f0e;stroke:#ff7f0e;\" x=\"221.724213\" xlink:href=\"#m2b94934715\" y=\"118.229068\"/>\r\n     <use style=\"fill:#ff7f0e;stroke:#ff7f0e;\" x=\"287.922543\" xlink:href=\"#m2b94934715\" y=\"81.582112\"/>\r\n     <use style=\"fill:#ff7f0e;stroke:#ff7f0e;\" x=\"210.546078\" xlink:href=\"#m2b94934715\" y=\"126.030708\"/>\r\n     <use style=\"fill:#ff7f0e;stroke:#ff7f0e;\" x=\"251.479563\" xlink:href=\"#m2b94934715\" y=\"132.23195\"/>\r\n     <use style=\"fill:#ff7f0e;stroke:#ff7f0e;\" x=\"168.968103\" xlink:href=\"#m2b94934715\" y=\"127.24472\"/>\r\n     <use style=\"fill:#ff7f0e;stroke:#ff7f0e;\" x=\"196.794168\" xlink:href=\"#m2b94934715\" y=\"124.742758\"/>\r\n     <use style=\"fill:#ff7f0e;stroke:#ff7f0e;\" x=\"222.029718\" xlink:href=\"#m2b94934715\" y=\"139.814161\"/>\r\n     <use style=\"fill:#ff7f0e;stroke:#ff7f0e;\" x=\"176.304408\" xlink:href=\"#m2b94934715\" y=\"132.797217\"/>\r\n     <use style=\"fill:#ff7f0e;stroke:#ff7f0e;\" x=\"240.431163\" xlink:href=\"#m2b94934715\" y=\"80.818882\"/>\r\n     <use style=\"fill:#ff7f0e;stroke:#ff7f0e;\" x=\"180.372228\" xlink:href=\"#m2b94934715\" y=\"155.386435\"/>\r\n     <use style=\"fill:#ff7f0e;stroke:#ff7f0e;\" x=\"166.900713\" xlink:href=\"#m2b94934715\" y=\"155.298186\"/>\r\n     <use style=\"fill:#ff7f0e;stroke:#ff7f0e;\" x=\"189.654558\" xlink:href=\"#m2b94934715\" y=\"123.492969\"/>\r\n     <use style=\"fill:#ff7f0e;stroke:#ff7f0e;\" x=\"263.406813\" xlink:href=\"#m2b94934715\" y=\"110.262857\"/>\r\n     <use style=\"fill:#ff7f0e;stroke:#ff7f0e;\" x=\"171.265668\" xlink:href=\"#m2b94934715\" y=\"118.443727\"/>\r\n     <use style=\"fill:#ff7f0e;stroke:#ff7f0e;\" x=\"206.951163\" xlink:href=\"#m2b94934715\" y=\"90.471354\"/>\r\n     <use style=\"fill:#ff7f0e;stroke:#ff7f0e;\" x=\"226.695993\" xlink:href=\"#m2b94934715\" y=\"127.848149\"/>\r\n     <use style=\"fill:#ff7f0e;stroke:#ff7f0e;\" x=\"116.521683\" xlink:href=\"#m2b94934715\" y=\"168.742957\"/>\r\n     <use style=\"fill:#ff7f0e;stroke:#ff7f0e;\" x=\"215.660148\" xlink:href=\"#m2b94934715\" y=\"137.090385\"/>\r\n     <use style=\"fill:#ff7f0e;stroke:#ff7f0e;\" x=\"180.108573\" xlink:href=\"#m2b94934715\" y=\"143.532522\"/>\r\n     <use style=\"fill:#ff7f0e;stroke:#ff7f0e;\" x=\"166.515693\" xlink:href=\"#m2b94934715\" y=\"164.826634\"/>\r\n     <use style=\"fill:#ff7f0e;stroke:#ff7f0e;\" x=\"202.782903\" xlink:href=\"#m2b94934715\" y=\"140.02405\"/>\r\n     <use style=\"fill:#ff7f0e;stroke:#ff7f0e;\" x=\"73.880718\" xlink:href=\"#m2b94934715\" y=\"177.78246\"/>\r\n     <use style=\"fill:#ff7f0e;stroke:#ff7f0e;\" x=\"274.471953\" xlink:href=\"#m2b94934715\" y=\"100.147677\"/>\r\n     <use style=\"fill:#ff7f0e;stroke:#ff7f0e;\" x=\"178.890738\" xlink:href=\"#m2b94934715\" y=\"143.823503\"/>\r\n     <use style=\"fill:#ff7f0e;stroke:#ff7f0e;\" x=\"210.115023\" xlink:href=\"#m2b94934715\" y=\"79.788522\"/>\r\n     <use style=\"fill:#ff7f0e;stroke:#ff7f0e;\" x=\"253.404663\" xlink:href=\"#m2b94934715\" y=\"65.222758\"/>\r\n     <use style=\"fill:#ff7f0e;stroke:#ff7f0e;\" x=\"182.142483\" xlink:href=\"#m2b94934715\" y=\"143.637466\"/>\r\n     <use style=\"fill:#ff7f0e;stroke:#ff7f0e;\" x=\"214.961253\" xlink:href=\"#m2b94934715\" y=\"143.699478\"/>\r\n     <use style=\"fill:#ff7f0e;stroke:#ff7f0e;\" x=\"188.478573\" xlink:href=\"#m2b94934715\" y=\"126.760547\"/>\r\n     <use style=\"fill:#ff7f0e;stroke:#ff7f0e;\" x=\"247.261083\" xlink:href=\"#m2b94934715\" y=\"137.514932\"/>\r\n     <use style=\"fill:#ff7f0e;stroke:#ff7f0e;\" x=\"165.297858\" xlink:href=\"#m2b94934715\" y=\"120.263553\"/>\r\n     <use style=\"fill:#ff7f0e;stroke:#ff7f0e;\" x=\"168.218988\" xlink:href=\"#m2b94934715\" y=\"138.275776\"/>\r\n     <use style=\"fill:#ff7f0e;stroke:#ff7f0e;\" x=\"219.372243\" xlink:href=\"#m2b94934715\" y=\"130.364422\"/>\r\n     <use style=\"fill:#ff7f0e;stroke:#ff7f0e;\" x=\"194.396163\" xlink:href=\"#m2b94934715\" y=\"127.053913\"/>\r\n     <use style=\"fill:#ff7f0e;stroke:#ff7f0e;\" x=\"169.277793\" xlink:href=\"#m2b94934715\" y=\"131.898037\"/>\r\n     <use style=\"fill:#ff7f0e;stroke:#ff7f0e;\" x=\"243.938193\" xlink:href=\"#m2b94934715\" y=\"142.034683\"/>\r\n     <use style=\"fill:#ff7f0e;stroke:#ff7f0e;\" x=\"247.997643\" xlink:href=\"#m2b94934715\" y=\"107.870609\"/>\r\n     <use style=\"fill:#ff7f0e;stroke:#ff7f0e;\" x=\"257.970498\" xlink:href=\"#m2b94934715\" y=\"103.05272\"/>\r\n     <use style=\"fill:#ff7f0e;stroke:#ff7f0e;\" x=\"208.654458\" xlink:href=\"#m2b94934715\" y=\"146.418484\"/>\r\n     <use style=\"fill:#ff7f0e;stroke:#ff7f0e;\" x=\"184.218243\" xlink:href=\"#m2b94934715\" y=\"158.906832\"/>\r\n     <use style=\"fill:#ff7f0e;stroke:#ff7f0e;\" x=\"179.547783\" xlink:href=\"#m2b94934715\" y=\"125.606161\"/>\r\n     <use style=\"fill:#ff7f0e;stroke:#ff7f0e;\" x=\"259.225998\" xlink:href=\"#m2b94934715\" y=\"117.425292\"/>\r\n     <use style=\"fill:#ff7f0e;stroke:#ff7f0e;\" x=\"125.285073\" xlink:href=\"#m2b94934715\" y=\"103.367553\"/>\r\n     <use style=\"fill:#ff7f0e;stroke:#ff7f0e;\" x=\"240.242838\" xlink:href=\"#m2b94934715\" y=\"110.84005\"/>\r\n     <use style=\"fill:#ff7f0e;stroke:#ff7f0e;\" x=\"160.087533\" xlink:href=\"#m2b94934715\" y=\"135.723727\"/>\r\n     <use style=\"fill:#ff7f0e;stroke:#ff7f0e;\" x=\"250.278468\" xlink:href=\"#m2b94934715\" y=\"102.525615\"/>\r\n     <use style=\"fill:#ff7f0e;stroke:#ff7f0e;\" x=\"164.917023\" xlink:href=\"#m2b94934715\" y=\"128.494509\"/>\r\n     <use style=\"fill:#ff7f0e;stroke:#ff7f0e;\" x=\"239.502093\" xlink:href=\"#m2b94934715\" y=\"69.570783\"/>\r\n    </g>\r\n   </g>\r\n   <g id=\"matplotlib.axis_1\">\r\n    <g id=\"xtick_1\">\r\n     <g id=\"line2d_1\">\r\n      <defs>\r\n       <path d=\"M 0 0 \r\nL 0 3.5 \r\n\" id=\"mc42cec708c\" style=\"stroke:#000000;stroke-width:0.8;\"/>\r\n      </defs>\r\n      <g>\r\n       <use style=\"stroke:#000000;stroke-width:0.8;\" x=\"28.942188\" xlink:href=\"#mc42cec708c\" y=\"224.64\"/>\r\n      </g>\r\n     </g>\r\n     <g id=\"text_1\">\r\n      <!-- −4 -->\r\n      <g transform=\"translate(21.571094 239.238438)scale(0.1 -0.1)\">\r\n       <defs>\r\n        <path d=\"M 10.59375 35.5 \r\nL 73.1875 35.5 \r\nL 73.1875 27.203125 \r\nL 10.59375 27.203125 \r\nz\r\n\" id=\"DejaVuSans-8722\"/>\r\n        <path d=\"M 37.796875 64.3125 \r\nL 12.890625 25.390625 \r\nL 37.796875 25.390625 \r\nz\r\nM 35.203125 72.90625 \r\nL 47.609375 72.90625 \r\nL 47.609375 25.390625 \r\nL 58.015625 25.390625 \r\nL 58.015625 17.1875 \r\nL 47.609375 17.1875 \r\nL 47.609375 0 \r\nL 37.796875 0 \r\nL 37.796875 17.1875 \r\nL 4.890625 17.1875 \r\nL 4.890625 26.703125 \r\nz\r\n\" id=\"DejaVuSans-52\"/>\r\n       </defs>\r\n       <use xlink:href=\"#DejaVuSans-8722\"/>\r\n       <use x=\"83.789062\" xlink:href=\"#DejaVuSans-52\"/>\r\n      </g>\r\n     </g>\r\n    </g>\r\n    <g id=\"xtick_2\">\r\n     <g id=\"line2d_2\">\r\n      <g>\r\n       <use style=\"stroke:#000000;stroke-width:0.8;\" x=\"70.792188\" xlink:href=\"#mc42cec708c\" y=\"224.64\"/>\r\n      </g>\r\n     </g>\r\n     <g id=\"text_2\">\r\n      <!-- −3 -->\r\n      <g transform=\"translate(63.421094 239.238438)scale(0.1 -0.1)\">\r\n       <defs>\r\n        <path d=\"M 40.578125 39.3125 \r\nQ 47.65625 37.796875 51.625 33 \r\nQ 55.609375 28.21875 55.609375 21.1875 \r\nQ 55.609375 10.40625 48.1875 4.484375 \r\nQ 40.765625 -1.421875 27.09375 -1.421875 \r\nQ 22.515625 -1.421875 17.65625 -0.515625 \r\nQ 12.796875 0.390625 7.625 2.203125 \r\nL 7.625 11.71875 \r\nQ 11.71875 9.328125 16.59375 8.109375 \r\nQ 21.484375 6.890625 26.8125 6.890625 \r\nQ 36.078125 6.890625 40.9375 10.546875 \r\nQ 45.796875 14.203125 45.796875 21.1875 \r\nQ 45.796875 27.640625 41.28125 31.265625 \r\nQ 36.765625 34.90625 28.71875 34.90625 \r\nL 20.21875 34.90625 \r\nL 20.21875 43.015625 \r\nL 29.109375 43.015625 \r\nQ 36.375 43.015625 40.234375 45.921875 \r\nQ 44.09375 48.828125 44.09375 54.296875 \r\nQ 44.09375 59.90625 40.109375 62.90625 \r\nQ 36.140625 65.921875 28.71875 65.921875 \r\nQ 24.65625 65.921875 20.015625 65.03125 \r\nQ 15.375 64.15625 9.8125 62.3125 \r\nL 9.8125 71.09375 \r\nQ 15.4375 72.65625 20.34375 73.4375 \r\nQ 25.25 74.21875 29.59375 74.21875 \r\nQ 40.828125 74.21875 47.359375 69.109375 \r\nQ 53.90625 64.015625 53.90625 55.328125 \r\nQ 53.90625 49.265625 50.4375 45.09375 \r\nQ 46.96875 40.921875 40.578125 39.3125 \r\nz\r\n\" id=\"DejaVuSans-51\"/>\r\n       </defs>\r\n       <use xlink:href=\"#DejaVuSans-8722\"/>\r\n       <use x=\"83.789062\" xlink:href=\"#DejaVuSans-51\"/>\r\n      </g>\r\n     </g>\r\n    </g>\r\n    <g id=\"xtick_3\">\r\n     <g id=\"line2d_3\">\r\n      <g>\r\n       <use style=\"stroke:#000000;stroke-width:0.8;\" x=\"112.642188\" xlink:href=\"#mc42cec708c\" y=\"224.64\"/>\r\n      </g>\r\n     </g>\r\n     <g id=\"text_3\">\r\n      <!-- −2 -->\r\n      <g transform=\"translate(105.271094 239.238438)scale(0.1 -0.1)\">\r\n       <defs>\r\n        <path d=\"M 19.1875 8.296875 \r\nL 53.609375 8.296875 \r\nL 53.609375 0 \r\nL 7.328125 0 \r\nL 7.328125 8.296875 \r\nQ 12.9375 14.109375 22.625 23.890625 \r\nQ 32.328125 33.6875 34.8125 36.53125 \r\nQ 39.546875 41.84375 41.421875 45.53125 \r\nQ 43.3125 49.21875 43.3125 52.78125 \r\nQ 43.3125 58.59375 39.234375 62.25 \r\nQ 35.15625 65.921875 28.609375 65.921875 \r\nQ 23.96875 65.921875 18.8125 64.3125 \r\nQ 13.671875 62.703125 7.8125 59.421875 \r\nL 7.8125 69.390625 \r\nQ 13.765625 71.78125 18.9375 73 \r\nQ 24.125 74.21875 28.421875 74.21875 \r\nQ 39.75 74.21875 46.484375 68.546875 \r\nQ 53.21875 62.890625 53.21875 53.421875 \r\nQ 53.21875 48.921875 51.53125 44.890625 \r\nQ 49.859375 40.875 45.40625 35.40625 \r\nQ 44.1875 33.984375 37.640625 27.21875 \r\nQ 31.109375 20.453125 19.1875 8.296875 \r\nz\r\n\" id=\"DejaVuSans-50\"/>\r\n       </defs>\r\n       <use xlink:href=\"#DejaVuSans-8722\"/>\r\n       <use x=\"83.789062\" xlink:href=\"#DejaVuSans-50\"/>\r\n      </g>\r\n     </g>\r\n    </g>\r\n    <g id=\"xtick_4\">\r\n     <g id=\"line2d_4\">\r\n      <g>\r\n       <use style=\"stroke:#000000;stroke-width:0.8;\" x=\"154.492188\" xlink:href=\"#mc42cec708c\" y=\"224.64\"/>\r\n      </g>\r\n     </g>\r\n     <g id=\"text_4\">\r\n      <!-- −1 -->\r\n      <g transform=\"translate(147.121094 239.238438)scale(0.1 -0.1)\">\r\n       <defs>\r\n        <path d=\"M 12.40625 8.296875 \r\nL 28.515625 8.296875 \r\nL 28.515625 63.921875 \r\nL 10.984375 60.40625 \r\nL 10.984375 69.390625 \r\nL 28.421875 72.90625 \r\nL 38.28125 72.90625 \r\nL 38.28125 8.296875 \r\nL 54.390625 8.296875 \r\nL 54.390625 0 \r\nL 12.40625 0 \r\nz\r\n\" id=\"DejaVuSans-49\"/>\r\n       </defs>\r\n       <use xlink:href=\"#DejaVuSans-8722\"/>\r\n       <use x=\"83.789062\" xlink:href=\"#DejaVuSans-49\"/>\r\n      </g>\r\n     </g>\r\n    </g>\r\n    <g id=\"xtick_5\">\r\n     <g id=\"line2d_5\">\r\n      <g>\r\n       <use style=\"stroke:#000000;stroke-width:0.8;\" x=\"196.342188\" xlink:href=\"#mc42cec708c\" y=\"224.64\"/>\r\n      </g>\r\n     </g>\r\n     <g id=\"text_5\">\r\n      <!-- 0 -->\r\n      <g transform=\"translate(193.160938 239.238438)scale(0.1 -0.1)\">\r\n       <defs>\r\n        <path d=\"M 31.78125 66.40625 \r\nQ 24.171875 66.40625 20.328125 58.90625 \r\nQ 16.5 51.421875 16.5 36.375 \r\nQ 16.5 21.390625 20.328125 13.890625 \r\nQ 24.171875 6.390625 31.78125 6.390625 \r\nQ 39.453125 6.390625 43.28125 13.890625 \r\nQ 47.125 21.390625 47.125 36.375 \r\nQ 47.125 51.421875 43.28125 58.90625 \r\nQ 39.453125 66.40625 31.78125 66.40625 \r\nz\r\nM 31.78125 74.21875 \r\nQ 44.046875 74.21875 50.515625 64.515625 \r\nQ 56.984375 54.828125 56.984375 36.375 \r\nQ 56.984375 17.96875 50.515625 8.265625 \r\nQ 44.046875 -1.421875 31.78125 -1.421875 \r\nQ 19.53125 -1.421875 13.0625 8.265625 \r\nQ 6.59375 17.96875 6.59375 36.375 \r\nQ 6.59375 54.828125 13.0625 64.515625 \r\nQ 19.53125 74.21875 31.78125 74.21875 \r\nz\r\n\" id=\"DejaVuSans-48\"/>\r\n       </defs>\r\n       <use xlink:href=\"#DejaVuSans-48\"/>\r\n      </g>\r\n     </g>\r\n    </g>\r\n    <g id=\"xtick_6\">\r\n     <g id=\"line2d_6\">\r\n      <g>\r\n       <use style=\"stroke:#000000;stroke-width:0.8;\" x=\"238.192188\" xlink:href=\"#mc42cec708c\" y=\"224.64\"/>\r\n      </g>\r\n     </g>\r\n     <g id=\"text_6\">\r\n      <!-- 1 -->\r\n      <g transform=\"translate(235.010938 239.238438)scale(0.1 -0.1)\">\r\n       <use xlink:href=\"#DejaVuSans-49\"/>\r\n      </g>\r\n     </g>\r\n    </g>\r\n    <g id=\"xtick_7\">\r\n     <g id=\"line2d_7\">\r\n      <g>\r\n       <use style=\"stroke:#000000;stroke-width:0.8;\" x=\"280.042188\" xlink:href=\"#mc42cec708c\" y=\"224.64\"/>\r\n      </g>\r\n     </g>\r\n     <g id=\"text_7\">\r\n      <!-- 2 -->\r\n      <g transform=\"translate(276.860938 239.238438)scale(0.1 -0.1)\">\r\n       <use xlink:href=\"#DejaVuSans-50\"/>\r\n      </g>\r\n     </g>\r\n    </g>\r\n    <g id=\"xtick_8\">\r\n     <g id=\"line2d_8\">\r\n      <g>\r\n       <use style=\"stroke:#000000;stroke-width:0.8;\" x=\"321.892188\" xlink:href=\"#mc42cec708c\" y=\"224.64\"/>\r\n      </g>\r\n     </g>\r\n     <g id=\"text_8\">\r\n      <!-- 3 -->\r\n      <g transform=\"translate(318.710938 239.238438)scale(0.1 -0.1)\">\r\n       <use xlink:href=\"#DejaVuSans-51\"/>\r\n      </g>\r\n     </g>\r\n    </g>\r\n    <g id=\"xtick_9\">\r\n     <g id=\"line2d_9\">\r\n      <g>\r\n       <use style=\"stroke:#000000;stroke-width:0.8;\" x=\"363.742188\" xlink:href=\"#mc42cec708c\" y=\"224.64\"/>\r\n      </g>\r\n     </g>\r\n     <g id=\"text_9\">\r\n      <!-- 4 -->\r\n      <g transform=\"translate(360.560938 239.238438)scale(0.1 -0.1)\">\r\n       <use xlink:href=\"#DejaVuSans-52\"/>\r\n      </g>\r\n     </g>\r\n    </g>\r\n   </g>\r\n   <g id=\"matplotlib.axis_2\">\r\n    <g id=\"ytick_1\">\r\n     <g id=\"line2d_10\">\r\n      <defs>\r\n       <path d=\"M 0 0 \r\nL -3.5 0 \r\n\" id=\"ma324fd0296\" style=\"stroke:#000000;stroke-width:0.8;\"/>\r\n      </defs>\r\n      <g>\r\n       <use style=\"stroke:#000000;stroke-width:0.8;\" x=\"28.942188\" xlink:href=\"#ma324fd0296\" y=\"224.64\"/>\r\n      </g>\r\n     </g>\r\n     <g id=\"text_10\">\r\n      <!-- −4 -->\r\n      <g transform=\"translate(7.2 228.439219)scale(0.1 -0.1)\">\r\n       <use xlink:href=\"#DejaVuSans-8722\"/>\r\n       <use x=\"83.789062\" xlink:href=\"#DejaVuSans-52\"/>\r\n      </g>\r\n     </g>\r\n    </g>\r\n    <g id=\"ytick_2\">\r\n     <g id=\"line2d_11\">\r\n      <g>\r\n       <use style=\"stroke:#000000;stroke-width:0.8;\" x=\"28.942188\" xlink:href=\"#ma324fd0296\" y=\"176.938137\"/>\r\n      </g>\r\n     </g>\r\n     <g id=\"text_11\">\r\n      <!-- −2 -->\r\n      <g transform=\"translate(7.2 180.737355)scale(0.1 -0.1)\">\r\n       <use xlink:href=\"#DejaVuSans-8722\"/>\r\n       <use x=\"83.789062\" xlink:href=\"#DejaVuSans-50\"/>\r\n      </g>\r\n     </g>\r\n    </g>\r\n    <g id=\"ytick_3\">\r\n     <g id=\"line2d_12\">\r\n      <g>\r\n       <use style=\"stroke:#000000;stroke-width:0.8;\" x=\"28.942188\" xlink:href=\"#ma324fd0296\" y=\"129.236273\"/>\r\n      </g>\r\n     </g>\r\n     <g id=\"text_12\">\r\n      <!-- 0 -->\r\n      <g transform=\"translate(15.579688 133.035492)scale(0.1 -0.1)\">\r\n       <use xlink:href=\"#DejaVuSans-48\"/>\r\n      </g>\r\n     </g>\r\n    </g>\r\n    <g id=\"ytick_4\">\r\n     <g id=\"line2d_13\">\r\n      <g>\r\n       <use style=\"stroke:#000000;stroke-width:0.8;\" x=\"28.942188\" xlink:href=\"#ma324fd0296\" y=\"81.53441\"/>\r\n      </g>\r\n     </g>\r\n     <g id=\"text_13\">\r\n      <!-- 2 -->\r\n      <g transform=\"translate(15.579688 85.333629)scale(0.1 -0.1)\">\r\n       <use xlink:href=\"#DejaVuSans-50\"/>\r\n      </g>\r\n     </g>\r\n    </g>\r\n    <g id=\"ytick_5\">\r\n     <g id=\"line2d_14\">\r\n      <g>\r\n       <use style=\"stroke:#000000;stroke-width:0.8;\" x=\"28.942188\" xlink:href=\"#ma324fd0296\" y=\"33.832547\"/>\r\n      </g>\r\n     </g>\r\n     <g id=\"text_14\">\r\n      <!-- 4 -->\r\n      <g transform=\"translate(15.579688 37.631765)scale(0.1 -0.1)\">\r\n       <use xlink:href=\"#DejaVuSans-52\"/>\r\n      </g>\r\n     </g>\r\n    </g>\r\n   </g>\r\n   <g id=\"LineCollection_1\">\r\n    <path clip-path=\"url(#p2641bc4d88)\" d=\"M 28.942188 85.266842 \r\nL 49.233097 84.766319 \r\nL 72.905824 84.418187 \r\nL 93.196733 84.330869 \r\nL 110.105824 84.442248 \r\nL 127.014915 84.783696 \r\nL 140.542188 85.294084 \r\nL 154.06946 86.066074 \r\nL 164.214915 86.799927 \r\nL 170.978551 87.455876 \r\nL 184.505824 89.092403 \r\nL 194.651278 90.773373 \r\nL 201.414915 92.198817 \r\nL 208.178551 93.945133 \r\nL 213.093831 95.507683 \r\nL 214.942188 96.12424 \r\nL 218.324006 97.455503 \r\nL 222.469978 99.362379 \r\nL 225.97087 101.289727 \r\nL 228.894209 103.217075 \r\nL 231.851278 105.615372 \r\nL 233.3546 107.071771 \r\nL 235.233097 109.262973 \r\nL 236.426262 110.926467 \r\nL 237.550747 112.853815 \r\nL 238.614915 115.266396 \r\nL 239.142497 116.708511 \r\nL 239.666558 118.635859 \r\nL 240.026446 120.563207 \r\nL 240.240263 122.490555 \r\nL 240.323175 124.417903 \r\nL 240.14422 128.272599 \r\nL 239.563828 132.127295 \r\nL 238.614915 136.022115 \r\nL 237.4627 139.836687 \r\nL 236.017855 143.691383 \r\nL 233.477561 149.473427 \r\nL 230.530835 155.255471 \r\nL 227.256733 161.037516 \r\nL 223.708994 166.81956 \r\nL 218.324006 174.970012 \r\nL 211.560369 184.475652 \r\nL 203.01289 195.72978 \r\nL 193.770751 207.293868 \r\nL 184.505824 218.532522 \r\nL 184.156277 218.857956 \r\nL 179.231629 224.64 \r\nL 179.231629 224.64 \r\n\" style=\"fill:none;stroke:#440154;stroke-width:1.5;\"/>\r\n   </g>\r\n   <g id=\"patch_3\">\r\n    <path d=\"M 28.942188 224.64 \r\nL 28.942188 7.2 \r\n\" style=\"fill:none;stroke:#000000;stroke-linecap:square;stroke-linejoin:miter;stroke-width:0.8;\"/>\r\n   </g>\r\n   <g id=\"patch_4\">\r\n    <path d=\"M 363.742188 224.64 \r\nL 363.742188 7.2 \r\n\" style=\"fill:none;stroke:#000000;stroke-linecap:square;stroke-linejoin:miter;stroke-width:0.8;\"/>\r\n   </g>\r\n   <g id=\"patch_5\">\r\n    <path d=\"M 28.942188 224.64 \r\nL 363.742188 224.64 \r\n\" style=\"fill:none;stroke:#000000;stroke-linecap:square;stroke-linejoin:miter;stroke-width:0.8;\"/>\r\n   </g>\r\n   <g id=\"patch_6\">\r\n    <path d=\"M 28.942188 7.2 \r\nL 363.742188 7.2 \r\n\" style=\"fill:none;stroke:#000000;stroke-linecap:square;stroke-linejoin:miter;stroke-width:0.8;\"/>\r\n   </g>\r\n  </g>\r\n </g>\r\n <defs>\r\n  <clipPath id=\"p2641bc4d88\">\r\n   <rect height=\"217.44\" width=\"334.8\" x=\"28.942188\" y=\"7.2\"/>\r\n  </clipPath>\r\n </defs>\r\n</svg>\r\n",
      "image/png": "[encoded data removed]"
     },
     "metadata": {
      "needs_background": "light"
     }
    }
   ],
   "metadata": {}
  },
  {
   "cell_type": "markdown",
   "source": [
    "Nearest Neighbor Classifier on Test Set"
   ],
   "metadata": {}
  },
  {
   "cell_type": "code",
   "execution_count": 23,
   "source": [
    "from scipy.spatial.distance import cdist"
   ],
   "outputs": [],
   "metadata": {}
  },
  {
   "cell_type": "code",
   "execution_count": 24,
   "source": [
    "def closest_point(point, points):\r\n",
    "    \"\"\" Find closest point from a list of points. \"\"\"\r\n",
    "    return points[cdist([point], points).argmin()]\r\n",
    "\r\n",
    "def match_value(df, col1, x, col2):\r\n",
    "    \"\"\" Match value x from col1 row to value in col2. \"\"\"\r\n",
    "    return df[df[col1] == x][col2].values[0]"
   ],
   "outputs": [],
   "metadata": {}
  },
  {
   "cell_type": "code",
   "execution_count": 25,
   "source": [
    "train['feature'] = train.iloc[:, 0:D].apply(tuple, axis=1)"
   ],
   "outputs": [],
   "metadata": {}
  },
  {
   "cell_type": "code",
   "execution_count": 26,
   "source": [
    "test['feature'] = test.iloc[:, 0:D].apply(tuple, axis=1)"
   ],
   "outputs": [],
   "metadata": {}
  },
  {
   "cell_type": "code",
   "execution_count": 27,
   "source": [
    "test['closest'] = [closest_point(x, list(train['feature'])) for x in test['feature']]\r\n",
    "test['predicted_nn'] = [match_value(train, 'feature', x, 'y') for x in test['closest']]"
   ],
   "outputs": [],
   "metadata": {}
  },
  {
   "cell_type": "code",
   "execution_count": 28,
   "source": [
    "y_nn_pred = test.iloc[:, [-1]]"
   ],
   "outputs": [],
   "metadata": {}
  },
  {
   "cell_type": "code",
   "execution_count": 29,
   "source": [
    "predictions_nn_test = np.array(y_nn_pred) == np.array(y)"
   ],
   "outputs": [],
   "metadata": {}
  },
  {
   "cell_type": "code",
   "execution_count": 30,
   "source": [
    "true_count = (predictions_nn_test[:, 0] == True).sum()\r\n",
    "false_count = (predictions_nn_test[:, 0] == False).sum()\r\n",
    "accuracy = true_count/(total) * 100\r\n",
    "print(true_count, false_count)\r\n",
    "print('Accuracy = ' + str(accuracy) + '%')"
   ],
   "outputs": [
    {
     "output_type": "stream",
     "name": "stdout",
     "text": [
      "200 0\n",
      "Accuracy = 100.0%\n"
     ]
    }
   ],
   "metadata": {}
  },
  {
   "cell_type": "code",
   "execution_count": null,
   "source": [],
   "outputs": [],
   "metadata": {}
  }
 ],
 "metadata": {
  "kernelspec": {
   "name": "python3",
   "display_name": "Python 3.8.5 64-bit ('base': conda)"
  },
  "language_info": {
   "codemirror_mode": {
    "name": "ipython",
    "version": 3
   },
   "file_extension": ".py",
   "mimetype": "text/x-python",
   "name": "python",
   "nbconvert_exporter": "python",
   "pygments_lexer": "ipython3",
   "version": "3.8.5"
  },
  "interpreter": {
   "hash": "e4bdbb500ad4978f33c007cc6a771ed0ff29ca7b02ce64c0b59ed9e2b1e66a68"
  }
 },
 "nbformat": 4,
 "nbformat_minor": 4
}