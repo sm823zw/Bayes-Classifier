{
 "cells": [
  {
   "cell_type": "code",
   "execution_count": 13,
   "metadata": {},
   "outputs": [],
   "source": [
    "import numpy as np\n",
    "import pandas as pd\n",
    "import os\n",
    "import math\n",
    "import matplotlib.pyplot as plt\n",
    "from sklearn.mixture import GaussianMixture"
   ]
  },
  {
   "cell_type": "code",
   "execution_count": 14,
   "metadata": {},
   "outputs": [],
   "source": [
    "train = pd.read_csv('R:/IISc/Sem 2/PRNN/Assignments/assignment-1-data-sets/P1b_train_data_2D.txt', header=None)"
   ]
  },
  {
   "cell_type": "code",
   "execution_count": 15,
   "metadata": {},
   "outputs": [],
   "source": [
    "D = 2"
   ]
  },
  {
   "cell_type": "code",
   "execution_count": 16,
   "metadata": {},
   "outputs": [
    {
     "data": {
      "text/html": [
       "<div>\n",
       "<style scoped>\n",
       "    .dataframe tbody tr th:only-of-type {\n",
       "        vertical-align: middle;\n",
       "    }\n",
       "\n",
       "    .dataframe tbody tr th {\n",
       "        vertical-align: top;\n",
       "    }\n",
       "\n",
       "    .dataframe thead th {\n",
       "        text-align: right;\n",
       "    }\n",
       "</style>\n",
       "<table border=\"1\" class=\"dataframe\">\n",
       "  <thead>\n",
       "    <tr style=\"text-align: right;\">\n",
       "      <th></th>\n",
       "      <th>0</th>\n",
       "      <th>1</th>\n",
       "      <th>y</th>\n",
       "    </tr>\n",
       "  </thead>\n",
       "  <tbody>\n",
       "    <tr>\n",
       "      <th>0</th>\n",
       "      <td>0.1363</td>\n",
       "      <td>0.5861</td>\n",
       "      <td>1</td>\n",
       "    </tr>\n",
       "    <tr>\n",
       "      <th>1</th>\n",
       "      <td>1.5985</td>\n",
       "      <td>0.7568</td>\n",
       "      <td>1</td>\n",
       "    </tr>\n",
       "    <tr>\n",
       "      <th>2</th>\n",
       "      <td>-0.0179</td>\n",
       "      <td>0.4179</td>\n",
       "      <td>1</td>\n",
       "    </tr>\n",
       "    <tr>\n",
       "      <th>3</th>\n",
       "      <td>-2.7473</td>\n",
       "      <td>-0.9575</td>\n",
       "      <td>1</td>\n",
       "    </tr>\n",
       "    <tr>\n",
       "      <th>4</th>\n",
       "      <td>0.3327</td>\n",
       "      <td>1.1452</td>\n",
       "      <td>1</td>\n",
       "    </tr>\n",
       "  </tbody>\n",
       "</table>\n",
       "</div>"
      ],
      "text/plain": [
       "        0       1  y\n",
       "0  0.1363  0.5861  1\n",
       "1  1.5985  0.7568  1\n",
       "2 -0.0179  0.4179  1\n",
       "3 -2.7473 -0.9575  1\n",
       "4  0.3327  1.1452  1"
      ]
     },
     "execution_count": 16,
     "metadata": {},
     "output_type": "execute_result"
    }
   ],
   "source": [
    "train = train.rename(columns={D: \"y\"})\n",
    "train.head()"
   ]
  },
  {
   "cell_type": "code",
   "execution_count": 17,
   "metadata": {},
   "outputs": [],
   "source": [
    "X = train.iloc[:, :D]\n",
    "X = np.array(X)"
   ]
  },
  {
   "cell_type": "code",
   "execution_count": 18,
   "metadata": {},
   "outputs": [],
   "source": [
    "gm = GaussianMixture(n_components=2, max_iter=10, random_state=0).fit(X)"
   ]
  },
  {
   "cell_type": "code",
   "execution_count": 19,
   "metadata": {},
   "outputs": [
    {
     "data": {
      "text/plain": [
       "array([0.52341333, 0.47658667])"
      ]
     },
     "execution_count": 19,
     "metadata": {},
     "output_type": "execute_result"
    }
   ],
   "source": [
    "gm.weights_"
   ]
  },
  {
   "cell_type": "code",
   "execution_count": 20,
   "metadata": {},
   "outputs": [
    {
     "data": {
      "text/plain": [
       "array([[ 2.96465286,  3.24850602],\n",
       "       [-0.09560031, -0.04895932]])"
      ]
     },
     "execution_count": 20,
     "metadata": {},
     "output_type": "execute_result"
    }
   ],
   "source": [
    "gm.means_"
   ]
  },
  {
   "cell_type": "code",
   "execution_count": 21,
   "metadata": {},
   "outputs": [
    {
     "data": {
      "text/plain": [
       "array([[[ 0.98585216, -0.02931426],\n",
       "        [-0.02931426,  2.95639524]],\n",
       "\n",
       "       [[ 0.92316508,  0.49406501],\n",
       "        [ 0.49406501,  0.96721445]]])"
      ]
     },
     "execution_count": 21,
     "metadata": {},
     "output_type": "execute_result"
    }
   ],
   "source": [
    "gm.covariances_"
   ]
  },
  {
   "cell_type": "code",
   "execution_count": 22,
   "metadata": {},
   "outputs": [],
   "source": [
    "total = len(train.index)\n",
    "p0 = gm.weights_[0]\n",
    "p1 = gm.weights_[1]\n",
    "mu0 = gm.means_[0]\n",
    "mu1 = gm.means_[1]\n",
    "sigma0 = gm.covariances_[0]\n",
    "sigma1 = gm.covariances_[1]\n",
    "mu0 = mu0.reshape((D, 1))\n",
    "mu1 = mu1.reshape((D, 1))\n",
    "sigma0 = sigma0.reshape((D, D))\n",
    "sigma1 = sigma1.reshape((D, D))"
   ]
  },
  {
   "cell_type": "code",
   "execution_count": 23,
   "metadata": {},
   "outputs": [],
   "source": [
    "def gaussian_prob(x, mu, sigma, d):\n",
    "    xx = np.matmul(x-mu, np.linalg.inv(sigma))\n",
    "    power = (-1/2)* np.matmul(np.matmul(x-mu, np.linalg.inv(sigma)), (x-mu).T)\n",
    "    det = abs(np.linalg.det(sigma))\n",
    "    value = (1/math.sqrt((2*math.pi)**d * det))* np.exp(power)\n",
    "    return value[0][0]\n",
    "\n",
    "def prediction(posterior_0, posterior_1):\n",
    "    if posterior_0 > posterior_1:\n",
    "        return -1\n",
    "    else:\n",
    "        return 1"
   ]
  },
  {
   "cell_type": "code",
   "execution_count": 24,
   "metadata": {},
   "outputs": [],
   "source": [
    "train['posterior_0'] = train.apply(lambda row: p0 * gaussian_prob(np.array(row[0:D]), mu0, sigma0, D), axis=1)\n",
    "train['posterior_1'] = train.apply(lambda row: p1 * gaussian_prob(np.array(row[0:D]), mu1, sigma1, D), axis=1)\n",
    "train['predicted'] = train.apply(lambda row: prediction(row.posterior_0, row.posterior_1), axis=1)"
   ]
  },
  {
   "cell_type": "code",
   "execution_count": 25,
   "metadata": {},
   "outputs": [
    {
     "data": {
      "text/html": [
       "<div>\n",
       "<style scoped>\n",
       "    .dataframe tbody tr th:only-of-type {\n",
       "        vertical-align: middle;\n",
       "    }\n",
       "\n",
       "    .dataframe tbody tr th {\n",
       "        vertical-align: top;\n",
       "    }\n",
       "\n",
       "    .dataframe thead th {\n",
       "        text-align: right;\n",
       "    }\n",
       "</style>\n",
       "<table border=\"1\" class=\"dataframe\">\n",
       "  <thead>\n",
       "    <tr style=\"text-align: right;\">\n",
       "      <th></th>\n",
       "      <th>0</th>\n",
       "      <th>1</th>\n",
       "      <th>y</th>\n",
       "      <th>posterior_0</th>\n",
       "      <th>posterior_1</th>\n",
       "      <th>predicted</th>\n",
       "    </tr>\n",
       "  </thead>\n",
       "  <tbody>\n",
       "    <tr>\n",
       "      <th>0</th>\n",
       "      <td>0.1363</td>\n",
       "      <td>0.5861</td>\n",
       "      <td>1</td>\n",
       "      <td>3.025836e-04</td>\n",
       "      <td>0.073315</td>\n",
       "      <td>1</td>\n",
       "    </tr>\n",
       "    <tr>\n",
       "      <th>1</th>\n",
       "      <td>1.5985</td>\n",
       "      <td>0.7568</td>\n",
       "      <td>1</td>\n",
       "      <td>8.051957e-03</td>\n",
       "      <td>0.019857</td>\n",
       "      <td>1</td>\n",
       "    </tr>\n",
       "    <tr>\n",
       "      <th>2</th>\n",
       "      <td>-0.0179</td>\n",
       "      <td>0.4179</td>\n",
       "      <td>1</td>\n",
       "      <td>1.654858e-04</td>\n",
       "      <td>0.080108</td>\n",
       "      <td>1</td>\n",
       "    </tr>\n",
       "    <tr>\n",
       "      <th>3</th>\n",
       "      <td>-2.7473</td>\n",
       "      <td>-0.9575</td>\n",
       "      <td>1</td>\n",
       "      <td>1.869793e-10</td>\n",
       "      <td>0.001675</td>\n",
       "      <td>1</td>\n",
       "    </tr>\n",
       "    <tr>\n",
       "      <th>4</th>\n",
       "      <td>0.3327</td>\n",
       "      <td>1.1452</td>\n",
       "      <td>1</td>\n",
       "      <td>7.907570e-04</td>\n",
       "      <td>0.041170</td>\n",
       "      <td>1</td>\n",
       "    </tr>\n",
       "  </tbody>\n",
       "</table>\n",
       "</div>"
      ],
      "text/plain": [
       "        0       1  y   posterior_0  posterior_1  predicted\n",
       "0  0.1363  0.5861  1  3.025836e-04     0.073315          1\n",
       "1  1.5985  0.7568  1  8.051957e-03     0.019857          1\n",
       "2 -0.0179  0.4179  1  1.654858e-04     0.080108          1\n",
       "3 -2.7473 -0.9575  1  1.869793e-10     0.001675          1\n",
       "4  0.3327  1.1452  1  7.907570e-04     0.041170          1"
      ]
     },
     "execution_count": 25,
     "metadata": {},
     "output_type": "execute_result"
    }
   ],
   "source": [
    "train.head()"
   ]
  },
  {
   "cell_type": "code",
   "execution_count": 26,
   "metadata": {},
   "outputs": [],
   "source": [
    "y = train.iloc[:, [D]]\n",
    "y_pred = train.iloc[:, [-1]]"
   ]
  },
  {
   "cell_type": "code",
   "execution_count": 27,
   "metadata": {},
   "outputs": [],
   "source": [
    "predictions_train = np.array(y_pred) == np.array(y)"
   ]
  },
  {
   "cell_type": "code",
   "execution_count": 28,
   "metadata": {},
   "outputs": [
    {
     "name": "stdout",
     "output_type": "stream",
     "text": [
      "193 7\n",
      "Accuracy = 96.5%\n"
     ]
    }
   ],
   "source": [
    "true_count = (predictions_train[:, 0] == True).sum()\n",
    "false_count = (predictions_train[:, 0] == False).sum()\n",
    "accuracy = true_count/(total) * 100\n",
    "print(true_count, false_count)\n",
    "print('Accuracy = ' + str(accuracy) + '%')"
   ]
  },
  {
   "cell_type": "code",
   "execution_count": 29,
   "metadata": {},
   "outputs": [],
   "source": [
    "test = pd.read_csv('R:/IISc/Sem 2/PRNN/Assignments/assignment-1-data-sets/P1b_test_data_2D.txt', header=None)"
   ]
  },
  {
   "cell_type": "code",
   "execution_count": 30,
   "metadata": {},
   "outputs": [
    {
     "data": {
      "text/html": [
       "<div>\n",
       "<style scoped>\n",
       "    .dataframe tbody tr th:only-of-type {\n",
       "        vertical-align: middle;\n",
       "    }\n",
       "\n",
       "    .dataframe tbody tr th {\n",
       "        vertical-align: top;\n",
       "    }\n",
       "\n",
       "    .dataframe thead th {\n",
       "        text-align: right;\n",
       "    }\n",
       "</style>\n",
       "<table border=\"1\" class=\"dataframe\">\n",
       "  <thead>\n",
       "    <tr style=\"text-align: right;\">\n",
       "      <th></th>\n",
       "      <th>0</th>\n",
       "      <th>1</th>\n",
       "      <th>y</th>\n",
       "    </tr>\n",
       "  </thead>\n",
       "  <tbody>\n",
       "    <tr>\n",
       "      <th>0</th>\n",
       "      <td>0.3208</td>\n",
       "      <td>-1.3389</td>\n",
       "      <td>1</td>\n",
       "    </tr>\n",
       "    <tr>\n",
       "      <th>1</th>\n",
       "      <td>-0.5736</td>\n",
       "      <td>0.2538</td>\n",
       "      <td>1</td>\n",
       "    </tr>\n",
       "    <tr>\n",
       "      <th>2</th>\n",
       "      <td>-1.0525</td>\n",
       "      <td>-1.3736</td>\n",
       "      <td>1</td>\n",
       "    </tr>\n",
       "    <tr>\n",
       "      <th>3</th>\n",
       "      <td>0.7437</td>\n",
       "      <td>-0.0372</td>\n",
       "      <td>1</td>\n",
       "    </tr>\n",
       "    <tr>\n",
       "      <th>4</th>\n",
       "      <td>-0.1212</td>\n",
       "      <td>1.1712</td>\n",
       "      <td>1</td>\n",
       "    </tr>\n",
       "  </tbody>\n",
       "</table>\n",
       "</div>"
      ],
      "text/plain": [
       "        0       1  y\n",
       "0  0.3208 -1.3389  1\n",
       "1 -0.5736  0.2538  1\n",
       "2 -1.0525 -1.3736  1\n",
       "3  0.7437 -0.0372  1\n",
       "4 -0.1212  1.1712  1"
      ]
     },
     "execution_count": 30,
     "metadata": {},
     "output_type": "execute_result"
    }
   ],
   "source": [
    "test = test.rename(columns={D: \"y\"})\n",
    "test.head()"
   ]
  },
  {
   "cell_type": "code",
   "execution_count": 31,
   "metadata": {},
   "outputs": [],
   "source": [
    "test['posterior_0'] = test.apply(lambda row: p0 * gaussian_prob(np.array(row[0:D]), mu0, sigma0, D), axis=1)\n",
    "test['posterior_1'] = test.apply(lambda row: p1 * gaussian_prob(np.array(row[0:D]), mu1, sigma1, D), axis=1)\n",
    "test['predicted'] = test.apply(lambda row: prediction(row.posterior_0, row.posterior_1), axis=1)"
   ]
  },
  {
   "cell_type": "code",
   "execution_count": 32,
   "metadata": {},
   "outputs": [],
   "source": [
    "total = len(test.index)\n",
    "y = test.iloc[:, [D]]\n",
    "y_pred = test.iloc[:, [-1]]"
   ]
  },
  {
   "cell_type": "code",
   "execution_count": 33,
   "metadata": {},
   "outputs": [],
   "source": [
    "predictions_test = np.array(y_pred) == np.array(y)"
   ]
  },
  {
   "cell_type": "code",
   "execution_count": 34,
   "metadata": {},
   "outputs": [
    {
     "name": "stdout",
     "output_type": "stream",
     "text": [
      "194 6\n",
      "Accuracy = 97.0%\n"
     ]
    }
   ],
   "source": [
    "true_count = (predictions_test[:, 0] == True).sum()\n",
    "false_count = (predictions_test[:, 0] == False).sum()\n",
    "accuracy = true_count/(total) * 100\n",
    "print(true_count, false_count)\n",
    "print('Accuracy = ' + str(accuracy) + '%')"
   ]
  },
  {
   "cell_type": "code",
   "execution_count": null,
   "metadata": {},
   "outputs": [],
   "source": []
  }
 ],
 "metadata": {
  "kernelspec": {
   "display_name": "Python 3",
   "language": "python",
   "name": "python3"
  },
  "language_info": {
   "codemirror_mode": {
    "name": "ipython",
    "version": 3
   },
   "file_extension": ".py",
   "mimetype": "text/x-python",
   "name": "python",
   "nbconvert_exporter": "python",
   "pygments_lexer": "ipython3",
   "version": "3.8.5"
  }
 },
 "nbformat": 4,
 "nbformat_minor": 4
}
