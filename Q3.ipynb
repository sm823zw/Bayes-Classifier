{
 "cells": [
  {
   "cell_type": "code",
   "execution_count": 1,
   "source": [
    "import numpy as np\r\n",
    "import pandas as pd\r\n",
    "import os\r\n",
    "import math\r\n",
    "import matplotlib.pyplot as plt\r\n",
    "from scipy import stats\r\n",
    "from sklearn.mixture import GaussianMixture"
   ],
   "outputs": [],
   "metadata": {}
  },
  {
   "cell_type": "code",
   "execution_count": 2,
   "source": [
    "train = pd.read_csv('R:/IISc/Sem 2/PRNN/Assignments/assignment-1-data-sets/P3a_train_data.csv', header=None)"
   ],
   "outputs": [],
   "metadata": {}
  },
  {
   "cell_type": "code",
   "execution_count": 3,
   "source": [
    "D = 1"
   ],
   "outputs": [],
   "metadata": {}
  },
  {
   "cell_type": "code",
   "execution_count": 4,
   "source": [
    "train = train.rename(columns={D: \"y\"})\r\n",
    "train"
   ],
   "outputs": [
    {
     "output_type": "execute_result",
     "data": {
      "text/plain": [
       "            0  y\n",
       "0     2.45497  1\n",
       "1     2.97240  1\n",
       "2     3.35191  1\n",
       "3     2.60095  1\n",
       "4     1.97615  1\n",
       "..        ... ..\n",
       "195  10.66159 -1\n",
       "196   8.56088 -1\n",
       "197  13.61581 -1\n",
       "198   6.67598 -1\n",
       "199  10.99589 -1\n",
       "\n",
       "[200 rows x 2 columns]"
      ],
      "text/html": [
       "<div>\n",
       "<style scoped>\n",
       "    .dataframe tbody tr th:only-of-type {\n",
       "        vertical-align: middle;\n",
       "    }\n",
       "\n",
       "    .dataframe tbody tr th {\n",
       "        vertical-align: top;\n",
       "    }\n",
       "\n",
       "    .dataframe thead th {\n",
       "        text-align: right;\n",
       "    }\n",
       "</style>\n",
       "<table border=\"1\" class=\"dataframe\">\n",
       "  <thead>\n",
       "    <tr style=\"text-align: right;\">\n",
       "      <th></th>\n",
       "      <th>0</th>\n",
       "      <th>y</th>\n",
       "    </tr>\n",
       "  </thead>\n",
       "  <tbody>\n",
       "    <tr>\n",
       "      <th>0</th>\n",
       "      <td>2.45497</td>\n",
       "      <td>1</td>\n",
       "    </tr>\n",
       "    <tr>\n",
       "      <th>1</th>\n",
       "      <td>2.97240</td>\n",
       "      <td>1</td>\n",
       "    </tr>\n",
       "    <tr>\n",
       "      <th>2</th>\n",
       "      <td>3.35191</td>\n",
       "      <td>1</td>\n",
       "    </tr>\n",
       "    <tr>\n",
       "      <th>3</th>\n",
       "      <td>2.60095</td>\n",
       "      <td>1</td>\n",
       "    </tr>\n",
       "    <tr>\n",
       "      <th>4</th>\n",
       "      <td>1.97615</td>\n",
       "      <td>1</td>\n",
       "    </tr>\n",
       "    <tr>\n",
       "      <th>...</th>\n",
       "      <td>...</td>\n",
       "      <td>...</td>\n",
       "    </tr>\n",
       "    <tr>\n",
       "      <th>195</th>\n",
       "      <td>10.66159</td>\n",
       "      <td>-1</td>\n",
       "    </tr>\n",
       "    <tr>\n",
       "      <th>196</th>\n",
       "      <td>8.56088</td>\n",
       "      <td>-1</td>\n",
       "    </tr>\n",
       "    <tr>\n",
       "      <th>197</th>\n",
       "      <td>13.61581</td>\n",
       "      <td>-1</td>\n",
       "    </tr>\n",
       "    <tr>\n",
       "      <th>198</th>\n",
       "      <td>6.67598</td>\n",
       "      <td>-1</td>\n",
       "    </tr>\n",
       "    <tr>\n",
       "      <th>199</th>\n",
       "      <td>10.99589</td>\n",
       "      <td>-1</td>\n",
       "    </tr>\n",
       "  </tbody>\n",
       "</table>\n",
       "<p>200 rows × 2 columns</p>\n",
       "</div>"
      ]
     },
     "metadata": {},
     "execution_count": 4
    }
   ],
   "metadata": {}
  },
  {
   "cell_type": "markdown",
   "source": [
    "EM ALGORITHM ESTIMATE"
   ],
   "metadata": {}
  },
  {
   "cell_type": "code",
   "execution_count": 5,
   "source": [
    "x0 = train[train['y'] == -1]\r\n",
    "x1 = train[train['y'] == 1]"
   ],
   "outputs": [],
   "metadata": {}
  },
  {
   "cell_type": "code",
   "execution_count": 6,
   "source": [
    "X0 = x0.iloc[:, :D]\r\n",
    "X0 = np.array(X0)\r\n",
    "X1 = x1.iloc[:, :D]\r\n",
    "X1 = np.array(X1)"
   ],
   "outputs": [],
   "metadata": {}
  },
  {
   "cell_type": "code",
   "execution_count": 7,
   "source": [
    "gm0 = GaussianMixture(n_components=2, max_iter=200, random_state=0).fit(X0)\r\n",
    "gm1 = GaussianMixture(n_components=2, max_iter=100, random_state=0).fit(X1)"
   ],
   "outputs": [],
   "metadata": {}
  },
  {
   "cell_type": "code",
   "execution_count": 8,
   "source": [
    "gm0.weights_"
   ],
   "outputs": [
    {
     "output_type": "execute_result",
     "data": {
      "text/plain": [
       "array([0.52370238, 0.47629762])"
      ]
     },
     "metadata": {},
     "execution_count": 8
    }
   ],
   "metadata": {}
  },
  {
   "cell_type": "code",
   "execution_count": 9,
   "source": [
    "gm0.means_"
   ],
   "outputs": [
    {
     "output_type": "execute_result",
     "data": {
      "text/plain": [
       "array([[11.51186173],\n",
       "       [ 7.56733472]])"
      ]
     },
     "metadata": {},
     "execution_count": 9
    }
   ],
   "metadata": {}
  },
  {
   "cell_type": "code",
   "execution_count": 10,
   "source": [
    "gm0.covariances_"
   ],
   "outputs": [
    {
     "output_type": "execute_result",
     "data": {
      "text/plain": [
       "array([[[2.92639719]],\n",
       "\n",
       "       [[3.29172029]]])"
      ]
     },
     "metadata": {},
     "execution_count": 10
    }
   ],
   "metadata": {}
  },
  {
   "cell_type": "code",
   "execution_count": 11,
   "source": [
    "gm1.weights_"
   ],
   "outputs": [
    {
     "output_type": "execute_result",
     "data": {
      "text/plain": [
       "array([0.5594664, 0.4405336])"
      ]
     },
     "metadata": {},
     "execution_count": 11
    }
   ],
   "metadata": {}
  },
  {
   "cell_type": "code",
   "execution_count": 12,
   "source": [
    "gm1.means_"
   ],
   "outputs": [
    {
     "output_type": "execute_result",
     "data": {
      "text/plain": [
       "array([[3.82633866],\n",
       "       [0.35767709]])"
      ]
     },
     "metadata": {},
     "execution_count": 12
    }
   ],
   "metadata": {}
  },
  {
   "cell_type": "code",
   "execution_count": 13,
   "source": [
    "gm1.covariances_"
   ],
   "outputs": [
    {
     "output_type": "execute_result",
     "data": {
      "text/plain": [
       "array([[[5.09926508]],\n",
       "\n",
       "       [[5.7776568 ]]])"
      ]
     },
     "metadata": {},
     "execution_count": 13
    }
   ],
   "metadata": {}
  },
  {
   "cell_type": "code",
   "execution_count": 14,
   "source": [
    "total = len(train.index)\r\n",
    "\r\n",
    "p01 = gm0.weights_[0]\r\n",
    "p02 = gm0.weights_[1]\r\n",
    "mu01 = gm0.means_[0][0]\r\n",
    "mu02 = gm0.means_[1][0]\r\n",
    "sigma01 = gm0.covariances_[0][0][0]\r\n",
    "sigma02 = gm0.covariances_[1][0][0]\r\n",
    "\r\n",
    "p11 = gm1.weights_[0]\r\n",
    "p12 = gm1.weights_[1]\r\n",
    "mu11 = gm1.means_[0][0]\r\n",
    "mu12 = gm1.means_[1][0]\r\n",
    "sigma11 = gm1.covariances_[0][0][0]\r\n",
    "sigma12 = gm1.covariances_[1][0][0]"
   ],
   "outputs": [],
   "metadata": {}
  },
  {
   "cell_type": "code",
   "execution_count": 15,
   "source": [
    "def gaussian_prob(x, p1, mu1, sigma1, p2, mu2, sigma2):\r\n",
    "    value = p1 * stats.norm(mu1, sigma1).pdf(x) + p2 * stats.norm(mu2, sigma2).pdf(x)\r\n",
    "    return value\r\n",
    "\r\n",
    "def prediction(posterior_0, posterior_1):\r\n",
    "    if posterior_0 > posterior_1:\r\n",
    "        return -1\r\n",
    "    else:\r\n",
    "        return 1"
   ],
   "outputs": [],
   "metadata": {}
  },
  {
   "cell_type": "code",
   "execution_count": 16,
   "source": [
    "train['posterior_0'] = train.apply(lambda row: gaussian_prob(np.array(row[0]), p01, mu01, sigma01, p02, mu02, sigma02), axis=1)\r\n",
    "train['posterior_1'] = train.apply(lambda row: gaussian_prob(np.array(row[0]), p11, mu11, sigma11, p12, mu12, sigma12), axis=1)\r\n",
    "train['predicted'] = train.apply(lambda row: prediction(row.posterior_0, row.posterior_1), axis=1)"
   ],
   "outputs": [],
   "metadata": {}
  },
  {
   "cell_type": "code",
   "execution_count": 17,
   "source": [
    "train.head()"
   ],
   "outputs": [
    {
     "output_type": "execute_result",
     "data": {
      "text/plain": [
       "         0  y  posterior_0  posterior_1  predicted\n",
       "0  2.45497  1     0.017875     0.070694          1\n",
       "1  2.97240  1     0.022800     0.070618          1\n",
       "2  3.35191  1     0.026888     0.070177          1\n",
       "3  2.60095  1     0.019188     0.070734          1\n",
       "4  1.97615  1     0.013995     0.070230          1"
      ],
      "text/html": [
       "<div>\n",
       "<style scoped>\n",
       "    .dataframe tbody tr th:only-of-type {\n",
       "        vertical-align: middle;\n",
       "    }\n",
       "\n",
       "    .dataframe tbody tr th {\n",
       "        vertical-align: top;\n",
       "    }\n",
       "\n",
       "    .dataframe thead th {\n",
       "        text-align: right;\n",
       "    }\n",
       "</style>\n",
       "<table border=\"1\" class=\"dataframe\">\n",
       "  <thead>\n",
       "    <tr style=\"text-align: right;\">\n",
       "      <th></th>\n",
       "      <th>0</th>\n",
       "      <th>y</th>\n",
       "      <th>posterior_0</th>\n",
       "      <th>posterior_1</th>\n",
       "      <th>predicted</th>\n",
       "    </tr>\n",
       "  </thead>\n",
       "  <tbody>\n",
       "    <tr>\n",
       "      <th>0</th>\n",
       "      <td>2.45497</td>\n",
       "      <td>1</td>\n",
       "      <td>0.017875</td>\n",
       "      <td>0.070694</td>\n",
       "      <td>1</td>\n",
       "    </tr>\n",
       "    <tr>\n",
       "      <th>1</th>\n",
       "      <td>2.97240</td>\n",
       "      <td>1</td>\n",
       "      <td>0.022800</td>\n",
       "      <td>0.070618</td>\n",
       "      <td>1</td>\n",
       "    </tr>\n",
       "    <tr>\n",
       "      <th>2</th>\n",
       "      <td>3.35191</td>\n",
       "      <td>1</td>\n",
       "      <td>0.026888</td>\n",
       "      <td>0.070177</td>\n",
       "      <td>1</td>\n",
       "    </tr>\n",
       "    <tr>\n",
       "      <th>3</th>\n",
       "      <td>2.60095</td>\n",
       "      <td>1</td>\n",
       "      <td>0.019188</td>\n",
       "      <td>0.070734</td>\n",
       "      <td>1</td>\n",
       "    </tr>\n",
       "    <tr>\n",
       "      <th>4</th>\n",
       "      <td>1.97615</td>\n",
       "      <td>1</td>\n",
       "      <td>0.013995</td>\n",
       "      <td>0.070230</td>\n",
       "      <td>1</td>\n",
       "    </tr>\n",
       "  </tbody>\n",
       "</table>\n",
       "</div>"
      ]
     },
     "metadata": {},
     "execution_count": 17
    }
   ],
   "metadata": {}
  },
  {
   "cell_type": "code",
   "execution_count": 18,
   "source": [
    "y = train.iloc[:, [D]]\n",
    "y_pred = train.iloc[:, [-1]]"
   ],
   "outputs": [],
   "metadata": {}
  },
  {
   "cell_type": "code",
   "execution_count": 19,
   "source": [
    "predictions_train = np.array(y_pred) == np.array(y)"
   ],
   "outputs": [],
   "metadata": {}
  },
  {
   "cell_type": "code",
   "execution_count": 20,
   "source": [
    "true_count = (predictions_train[:, 0] == True).sum()\n",
    "false_count = (predictions_train[:, 0] == False).sum()\n",
    "accuracy = true_count/(total) * 100\n",
    "print(true_count, false_count)\n",
    "print('Accuracy = ' + str(accuracy) + '%')"
   ],
   "outputs": [
    {
     "output_type": "stream",
     "name": "stdout",
     "text": [
      "180 20\n",
      "Accuracy = 90.0%\n"
     ]
    }
   ],
   "metadata": {}
  },
  {
   "cell_type": "code",
   "execution_count": 21,
   "source": [
    "x0 = train[train['y'] == -1][0]\n",
    "y = list([0]*len(list(x0)))\n",
    "x1 = train[train['y'] == 1][0]\n",
    "plt.scatter(x0, y)\n",
    "plt.scatter(x1, y)"
   ],
   "outputs": [
    {
     "output_type": "execute_result",
     "data": {
      "text/plain": [
       "<matplotlib.collections.PathCollection at 0x2462767f640>"
      ]
     },
     "metadata": {},
     "execution_count": 21
    },
    {
     "output_type": "display_data",
     "data": {
      "text/plain": [
       "<Figure size 432x288 with 1 Axes>"
      ],
      "image/png": "[encoded data removed]"
     },
     "metadata": {
      "needs_background": "light"
     }
    }
   ],
   "metadata": {}
  },
  {
   "cell_type": "code",
   "execution_count": 23,
   "source": [
    "test = pd.read_csv('R:/IISc/Sem 2/PRNN/Assignments/assignment-1-data-sets/P3a_test_data.csv', header=None)"
   ],
   "outputs": [],
   "metadata": {}
  },
  {
   "cell_type": "code",
   "execution_count": 24,
   "source": [
    "test = test.rename(columns={D: \"y\"})\n",
    "test.head()"
   ],
   "outputs": [
    {
     "output_type": "execute_result",
     "data": {
      "text/plain": [
       "         0  y\n",
       "0  2.36515  1\n",
       "1  6.25752  1\n",
       "2  4.33258  1\n",
       "3 -1.96716  1\n",
       "4  4.47927  1"
      ],
      "text/html": [
       "<div>\n",
       "<style scoped>\n",
       "    .dataframe tbody tr th:only-of-type {\n",
       "        vertical-align: middle;\n",
       "    }\n",
       "\n",
       "    .dataframe tbody tr th {\n",
       "        vertical-align: top;\n",
       "    }\n",
       "\n",
       "    .dataframe thead th {\n",
       "        text-align: right;\n",
       "    }\n",
       "</style>\n",
       "<table border=\"1\" class=\"dataframe\">\n",
       "  <thead>\n",
       "    <tr style=\"text-align: right;\">\n",
       "      <th></th>\n",
       "      <th>0</th>\n",
       "      <th>y</th>\n",
       "    </tr>\n",
       "  </thead>\n",
       "  <tbody>\n",
       "    <tr>\n",
       "      <th>0</th>\n",
       "      <td>2.36515</td>\n",
       "      <td>1</td>\n",
       "    </tr>\n",
       "    <tr>\n",
       "      <th>1</th>\n",
       "      <td>6.25752</td>\n",
       "      <td>1</td>\n",
       "    </tr>\n",
       "    <tr>\n",
       "      <th>2</th>\n",
       "      <td>4.33258</td>\n",
       "      <td>1</td>\n",
       "    </tr>\n",
       "    <tr>\n",
       "      <th>3</th>\n",
       "      <td>-1.96716</td>\n",
       "      <td>1</td>\n",
       "    </tr>\n",
       "    <tr>\n",
       "      <th>4</th>\n",
       "      <td>4.47927</td>\n",
       "      <td>1</td>\n",
       "    </tr>\n",
       "  </tbody>\n",
       "</table>\n",
       "</div>"
      ]
     },
     "metadata": {},
     "execution_count": 24
    }
   ],
   "metadata": {}
  },
  {
   "cell_type": "code",
   "execution_count": 25,
   "source": [
    "test['posterior_0'] = test.apply(lambda row: gaussian_prob(np.array(row[0]), p01, mu01, sigma01, p02, mu02, sigma02), axis=1)\n",
    "test['posterior_1'] = test.apply(lambda row: gaussian_prob(np.array(row[0]), p11, mu11, sigma11, p12, mu12, sigma12), axis=1)\n",
    "test['predicted'] = test.apply(lambda row: prediction(row.posterior_0, row.posterior_1), axis=1)"
   ],
   "outputs": [],
   "metadata": {}
  },
  {
   "cell_type": "code",
   "execution_count": 26,
   "source": [
    "total = len(test.index)\n",
    "y = test.iloc[:, [D]]\n",
    "y_pred = test.iloc[:, [-1]]"
   ],
   "outputs": [],
   "metadata": {}
  },
  {
   "cell_type": "code",
   "execution_count": 27,
   "source": [
    "predictions_test = np.array(y_pred) == np.array(y)"
   ],
   "outputs": [],
   "metadata": {}
  },
  {
   "cell_type": "code",
   "execution_count": 28,
   "source": [
    "true_count = (predictions_test[:, 0] == True).sum()\n",
    "false_count = (predictions_test[:, 0] == False).sum()\n",
    "accuracy = true_count/(total) * 100\n",
    "print(true_count, false_count)\n",
    "print('Accuracy = ' + str(accuracy) + '%')"
   ],
   "outputs": [
    {
     "output_type": "stream",
     "name": "stdout",
     "text": [
      "187 13\n",
      "Accuracy = 93.5%\n"
     ]
    }
   ],
   "metadata": {}
  },
  {
   "cell_type": "code",
   "execution_count": 29,
   "source": [
    "x0 = test[test['y'] == -1][0]\n",
    "y = list([0]*len(list(x0)))\n",
    "x1 = test[test['y'] == 1][0]\n",
    "plt.scatter(x0, y)\n",
    "plt.scatter(x1, y)"
   ],
   "outputs": [
    {
     "output_type": "execute_result",
     "data": {
      "text/plain": [
       "<matplotlib.collections.PathCollection at 0x246279afeb0>"
      ]
     },
     "metadata": {},
     "execution_count": 29
    },
    {
     "output_type": "display_data",
     "data": {
      "text/plain": [
       "<Figure size 432x288 with 1 Axes>"
      ],
      "image/png": "[encoded data removed]"
     },
     "metadata": {
      "needs_background": "light"
     }
    }
   ],
   "metadata": {}
  },
  {
   "cell_type": "markdown",
   "source": [
    "MAXIMUM LIKELIHOOD ESTIMATE"
   ],
   "metadata": {}
  },
  {
   "cell_type": "code",
   "execution_count": 35,
   "source": [
    "train = pd.read_csv('R:/IISc/Sem 2/PRNN/Assignments/assignment-1-data-sets/P3b_train_data.csv', header=None)"
   ],
   "outputs": [],
   "metadata": {}
  },
  {
   "cell_type": "code",
   "execution_count": 36,
   "source": [
    "D = 1"
   ],
   "outputs": [],
   "metadata": {}
  },
  {
   "cell_type": "code",
   "execution_count": 37,
   "source": [
    "train = train.rename(columns={D: \"y\"})\n",
    "train.head(5)"
   ],
   "outputs": [
    {
     "output_type": "execute_result",
     "data": {
      "text/plain": [
       "         0  y\n",
       "0  1.54474  1\n",
       "1  1.26571  1\n",
       "2  1.64868  1\n",
       "3  7.07286  1\n",
       "4  6.38864  1"
      ],
      "text/html": [
       "<div>\n",
       "<style scoped>\n",
       "    .dataframe tbody tr th:only-of-type {\n",
       "        vertical-align: middle;\n",
       "    }\n",
       "\n",
       "    .dataframe tbody tr th {\n",
       "        vertical-align: top;\n",
       "    }\n",
       "\n",
       "    .dataframe thead th {\n",
       "        text-align: right;\n",
       "    }\n",
       "</style>\n",
       "<table border=\"1\" class=\"dataframe\">\n",
       "  <thead>\n",
       "    <tr style=\"text-align: right;\">\n",
       "      <th></th>\n",
       "      <th>0</th>\n",
       "      <th>y</th>\n",
       "    </tr>\n",
       "  </thead>\n",
       "  <tbody>\n",
       "    <tr>\n",
       "      <th>0</th>\n",
       "      <td>1.54474</td>\n",
       "      <td>1</td>\n",
       "    </tr>\n",
       "    <tr>\n",
       "      <th>1</th>\n",
       "      <td>1.26571</td>\n",
       "      <td>1</td>\n",
       "    </tr>\n",
       "    <tr>\n",
       "      <th>2</th>\n",
       "      <td>1.64868</td>\n",
       "      <td>1</td>\n",
       "    </tr>\n",
       "    <tr>\n",
       "      <th>3</th>\n",
       "      <td>7.07286</td>\n",
       "      <td>1</td>\n",
       "    </tr>\n",
       "    <tr>\n",
       "      <th>4</th>\n",
       "      <td>6.38864</td>\n",
       "      <td>1</td>\n",
       "    </tr>\n",
       "  </tbody>\n",
       "</table>\n",
       "</div>"
      ]
     },
     "metadata": {},
     "execution_count": 37
    }
   ],
   "metadata": {}
  },
  {
   "cell_type": "code",
   "execution_count": 38,
   "source": [
    "total = len(train.index)\n",
    "p0 = train[train.y == -1].shape[0]/total\n",
    "p1 = train[train.y == 1].shape[0]/total\n",
    "print(total, p0, p1)"
   ],
   "outputs": [
    {
     "output_type": "stream",
     "name": "stdout",
     "text": [
      "200 0.5 0.5\n"
     ]
    }
   ],
   "metadata": {}
  },
  {
   "cell_type": "code",
   "execution_count": 39,
   "source": [
    "mu0 = train.groupby('y').mean().loc[-1][0]\n",
    "mu1 = train.groupby('y').mean().loc[1][0]\n",
    "sigma0 = np.array(train.groupby('y').cov().loc[-1])[0][0]\n",
    "sigma1 = np.array(train.groupby('y').cov().loc[1])[0][0]\n",
    "print(mu0)\n",
    "print(mu1)\n",
    "print(sigma0)\n",
    "print(sigma1)"
   ],
   "outputs": [
    {
     "output_type": "stream",
     "name": "stdout",
     "text": [
      "8.769839999999999\n",
      "4.4707577999999994\n",
      "21.359141053763643\n",
      "17.577411287924406\n"
     ]
    }
   ],
   "metadata": {}
  },
  {
   "cell_type": "code",
   "execution_count": 83,
   "source": [
    "def gaussian_prob(x, p, mu, sigma):\n",
    "    value = p * stats.norm(mu, sigma).pdf(x)\n",
    "    return value\n",
    "\n",
    "def prediction(posterior_0, posterior_1):\n",
    "    if posterior_0 > posterior_1:\n",
    "        return -1\n",
    "    else:\n",
    "        return 1"
   ],
   "outputs": [],
   "metadata": {}
  },
  {
   "cell_type": "code",
   "execution_count": 84,
   "source": [
    "train['posterior_0'] = train.apply(lambda row: gaussian_prob(np.array(row[0]), p0, mu0, sigma0), axis=1)\n",
    "train['posterior_1'] = train.apply(lambda row: gaussian_prob(np.array(row[0]), p1, mu1, sigma1), axis=1)\n",
    "train['predicted'] = train.apply(lambda row: prediction(row.posterior_0, row.posterior_1), axis=1)"
   ],
   "outputs": [],
   "metadata": {}
  },
  {
   "cell_type": "code",
   "execution_count": 85,
   "source": [
    "train.head()"
   ],
   "outputs": [
    {
     "output_type": "execute_result",
     "data": {
      "text/plain": [
       "         0  y  posterior_0  posterior_1  predicted\n",
       "0  2.45497  1     0.016849     0.023608          1\n",
       "1  2.97240  1     0.018107     0.023537          1\n",
       "2  3.35191  1     0.019024     0.023429          1\n",
       "3  2.60095  1     0.017204     0.023597          1\n",
       "4  1.97615  1     0.015688     0.023595          1"
      ],
      "text/html": [
       "<div>\n",
       "<style scoped>\n",
       "    .dataframe tbody tr th:only-of-type {\n",
       "        vertical-align: middle;\n",
       "    }\n",
       "\n",
       "    .dataframe tbody tr th {\n",
       "        vertical-align: top;\n",
       "    }\n",
       "\n",
       "    .dataframe thead th {\n",
       "        text-align: right;\n",
       "    }\n",
       "</style>\n",
       "<table border=\"1\" class=\"dataframe\">\n",
       "  <thead>\n",
       "    <tr style=\"text-align: right;\">\n",
       "      <th></th>\n",
       "      <th>0</th>\n",
       "      <th>y</th>\n",
       "      <th>posterior_0</th>\n",
       "      <th>posterior_1</th>\n",
       "      <th>predicted</th>\n",
       "    </tr>\n",
       "  </thead>\n",
       "  <tbody>\n",
       "    <tr>\n",
       "      <th>0</th>\n",
       "      <td>2.45497</td>\n",
       "      <td>1</td>\n",
       "      <td>0.016849</td>\n",
       "      <td>0.023608</td>\n",
       "      <td>1</td>\n",
       "    </tr>\n",
       "    <tr>\n",
       "      <th>1</th>\n",
       "      <td>2.97240</td>\n",
       "      <td>1</td>\n",
       "      <td>0.018107</td>\n",
       "      <td>0.023537</td>\n",
       "      <td>1</td>\n",
       "    </tr>\n",
       "    <tr>\n",
       "      <th>2</th>\n",
       "      <td>3.35191</td>\n",
       "      <td>1</td>\n",
       "      <td>0.019024</td>\n",
       "      <td>0.023429</td>\n",
       "      <td>1</td>\n",
       "    </tr>\n",
       "    <tr>\n",
       "      <th>3</th>\n",
       "      <td>2.60095</td>\n",
       "      <td>1</td>\n",
       "      <td>0.017204</td>\n",
       "      <td>0.023597</td>\n",
       "      <td>1</td>\n",
       "    </tr>\n",
       "    <tr>\n",
       "      <th>4</th>\n",
       "      <td>1.97615</td>\n",
       "      <td>1</td>\n",
       "      <td>0.015688</td>\n",
       "      <td>0.023595</td>\n",
       "      <td>1</td>\n",
       "    </tr>\n",
       "  </tbody>\n",
       "</table>\n",
       "</div>"
      ]
     },
     "metadata": {},
     "execution_count": 85
    }
   ],
   "metadata": {}
  },
  {
   "cell_type": "code",
   "execution_count": 86,
   "source": [
    "y = train.iloc[:, [D]]\n",
    "y_pred = train.iloc[:, [-1]]"
   ],
   "outputs": [],
   "metadata": {}
  },
  {
   "cell_type": "code",
   "execution_count": 87,
   "source": [
    "predictions_train = np.array(y_pred) == np.array(y)"
   ],
   "outputs": [],
   "metadata": {}
  },
  {
   "cell_type": "code",
   "execution_count": 88,
   "source": [
    "true_count = (predictions_train[:, 0] == True).sum()\n",
    "false_count = (predictions_train[:, 0] == False).sum()\n",
    "accuracy = true_count/(total) * 100\n",
    "print(true_count, false_count)\n",
    "print('Accuracy = ' + str(accuracy) + '%')"
   ],
   "outputs": [
    {
     "output_type": "stream",
     "name": "stdout",
     "text": [
      "181 19\n",
      "Accuracy = 90.5%\n"
     ]
    }
   ],
   "metadata": {}
  },
  {
   "cell_type": "code",
   "execution_count": 89,
   "source": [
    "test = pd.read_csv('R:/IISc/Sem 2/PRNN/Assignments/assignment-1-data-sets/P3a_test_data.csv', header=None)"
   ],
   "outputs": [],
   "metadata": {}
  },
  {
   "cell_type": "code",
   "execution_count": 90,
   "source": [
    "test = test.rename(columns={D: \"y\"})\n",
    "test.head()"
   ],
   "outputs": [
    {
     "output_type": "execute_result",
     "data": {
      "text/plain": [
       "         0  y\n",
       "0  2.36515  1\n",
       "1  6.25752  1\n",
       "2  4.33258  1\n",
       "3 -1.96716  1\n",
       "4  4.47927  1"
      ],
      "text/html": [
       "<div>\n",
       "<style scoped>\n",
       "    .dataframe tbody tr th:only-of-type {\n",
       "        vertical-align: middle;\n",
       "    }\n",
       "\n",
       "    .dataframe tbody tr th {\n",
       "        vertical-align: top;\n",
       "    }\n",
       "\n",
       "    .dataframe thead th {\n",
       "        text-align: right;\n",
       "    }\n",
       "</style>\n",
       "<table border=\"1\" class=\"dataframe\">\n",
       "  <thead>\n",
       "    <tr style=\"text-align: right;\">\n",
       "      <th></th>\n",
       "      <th>0</th>\n",
       "      <th>y</th>\n",
       "    </tr>\n",
       "  </thead>\n",
       "  <tbody>\n",
       "    <tr>\n",
       "      <th>0</th>\n",
       "      <td>2.36515</td>\n",
       "      <td>1</td>\n",
       "    </tr>\n",
       "    <tr>\n",
       "      <th>1</th>\n",
       "      <td>6.25752</td>\n",
       "      <td>1</td>\n",
       "    </tr>\n",
       "    <tr>\n",
       "      <th>2</th>\n",
       "      <td>4.33258</td>\n",
       "      <td>1</td>\n",
       "    </tr>\n",
       "    <tr>\n",
       "      <th>3</th>\n",
       "      <td>-1.96716</td>\n",
       "      <td>1</td>\n",
       "    </tr>\n",
       "    <tr>\n",
       "      <th>4</th>\n",
       "      <td>4.47927</td>\n",
       "      <td>1</td>\n",
       "    </tr>\n",
       "  </tbody>\n",
       "</table>\n",
       "</div>"
      ]
     },
     "metadata": {},
     "execution_count": 90
    }
   ],
   "metadata": {}
  },
  {
   "cell_type": "code",
   "execution_count": 91,
   "source": [
    "test['posterior_0'] = test.apply(lambda row: gaussian_prob(np.array(row[0]), p0, mu0, sigma0), axis=1)\n",
    "# test['posterior_0'] = test.apply(lambda row: p0 * exponential_prob(np.array(row[0:D]), mu0, D), axis=1)\n",
    "test['posterior_1'] = test.apply(lambda row: gaussian_prob(np.array(row[0]), p1, mu1, sigma1), axis=1)\n",
    "test['predicted'] = test.apply(lambda row: prediction(row.posterior_0, row.posterior_1), axis=1)"
   ],
   "outputs": [],
   "metadata": {}
  },
  {
   "cell_type": "code",
   "execution_count": 92,
   "source": [
    "total = len(test.index)\n",
    "y = test.iloc[:, [D]]\n",
    "y_pred = test.iloc[:, [-1]]"
   ],
   "outputs": [],
   "metadata": {}
  },
  {
   "cell_type": "code",
   "execution_count": 93,
   "source": [
    "predictions_test = np.array(y_pred) == np.array(y)"
   ],
   "outputs": [],
   "metadata": {}
  },
  {
   "cell_type": "code",
   "execution_count": 94,
   "source": [
    "true_count = (predictions_test[:, 0] == True).sum()\n",
    "false_count = (predictions_test[:, 0] == False).sum()\n",
    "accuracy = true_count/(total) * 100\n",
    "print(true_count, false_count)\n",
    "print('Accuracy = ' + str(accuracy) + '%')"
   ],
   "outputs": [
    {
     "output_type": "stream",
     "name": "stdout",
     "text": [
      "182 18\n",
      "Accuracy = 91.0%\n"
     ]
    }
   ],
   "metadata": {}
  },
  {
   "cell_type": "markdown",
   "source": [
    "NEAREST NEIGHBOUR CLASSIFIER"
   ],
   "metadata": {}
  },
  {
   "cell_type": "code",
   "execution_count": 95,
   "source": [
    "from scipy.spatial.distance import cdist"
   ],
   "outputs": [],
   "metadata": {}
  },
  {
   "cell_type": "code",
   "execution_count": 96,
   "source": [
    "def closest_point(point, points):\n",
    "    \"\"\" Find closest point from a list of points. \"\"\"\n",
    "    return points[cdist([point], points).argmin()]\n",
    "\n",
    "def match_value(df, col1, x, col2):\n",
    "    \"\"\" Match value x from col1 row to value in col2. \"\"\"\n",
    "    return df[df[col1] == x][col2].values[0]"
   ],
   "outputs": [],
   "metadata": {}
  },
  {
   "cell_type": "code",
   "execution_count": 97,
   "source": [
    "train['feature'] = train.iloc[:, 0:D].apply(tuple, axis=1)"
   ],
   "outputs": [],
   "metadata": {}
  },
  {
   "cell_type": "code",
   "execution_count": 98,
   "source": [
    "test['feature'] = test.iloc[:, 0:D].apply(tuple, axis=1)"
   ],
   "outputs": [],
   "metadata": {}
  },
  {
   "cell_type": "code",
   "execution_count": 99,
   "source": [
    "test['closest'] = [closest_point(x, list(train['feature'])) for x in test['feature']]\n",
    "test['predicted_nn'] = [match_value(train, 'feature', x, 'y') for x in test['closest']]"
   ],
   "outputs": [],
   "metadata": {}
  },
  {
   "cell_type": "code",
   "execution_count": 100,
   "source": [
    "y_nn_pred = test.iloc[:, [-1]]"
   ],
   "outputs": [],
   "metadata": {}
  },
  {
   "cell_type": "code",
   "execution_count": 101,
   "source": [
    "predictions_nn_test = np.array(y_nn_pred) == np.array(y)"
   ],
   "outputs": [],
   "metadata": {}
  },
  {
   "cell_type": "code",
   "execution_count": 102,
   "source": [
    "true_count = (predictions_nn_test[:, 0] == True).sum()\n",
    "false_count = (predictions_nn_test[:, 0] == False).sum()\n",
    "accuracy = true_count/(total) * 100\n",
    "print(true_count, false_count)\n",
    "print('Accuracy = ' + str(accuracy) + '%')"
   ],
   "outputs": [
    {
     "output_type": "stream",
     "name": "stdout",
     "text": [
      "179 21\n",
      "Accuracy = 89.5%\n"
     ]
    }
   ],
   "metadata": {}
  },
  {
   "cell_type": "code",
   "execution_count": null,
   "source": [],
   "outputs": [],
   "metadata": {}
  },
  {
   "cell_type": "code",
   "execution_count": null,
   "source": [],
   "outputs": [],
   "metadata": {}
  }
 ],
 "metadata": {
  "kernelspec": {
   "display_name": "Python 3",
   "language": "python",
   "name": "python3"
  },
  "language_info": {
   "codemirror_mode": {
    "name": "ipython",
    "version": 3
   },
   "file_extension": ".py",
   "mimetype": "text/x-python",
   "name": "python",
   "nbconvert_exporter": "python",
   "pygments_lexer": "ipython3",
   "version": "3.8.5"
  }
 },
 "nbformat": 4,
 "nbformat_minor": 4
}